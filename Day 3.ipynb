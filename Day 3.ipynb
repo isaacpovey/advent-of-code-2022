{
 "cells": [
  {
   "cell_type": "markdown",
   "id": "b5fcc3f5",
   "metadata": {},
   "source": [
    "--- Day 3: Rucksack Reorganization ---\n",
    "\n",
    "One Elf has the important job of loading all of the rucksacks with supplies for the jungle journey. Unfortunately, that Elf didn't quite follow the packing instructions, and so a few items now need to be rearranged.\n",
    "\n",
    "Each rucksack has two large compartments. All items of a given type are meant to go into exactly one of the two compartments. The Elf that did the packing failed to follow this rule for exactly one item type per rucksack.\n",
    "\n",
    "The Elves have made a list of all of the items currently in each rucksack (your puzzle input), but they need your help finding the errors. Every item type is identified by a single lowercase or uppercase letter (that is, a and A refer to different types of items).\n",
    "\n",
    "The list of items for each rucksack is given as characters all on a single line. A given rucksack always has the same number of items in each of its two compartments, so the first half of the characters represent items in the first compartment, while the second half of the characters represent items in the second compartment.\n",
    "\n",
    "For example, suppose you have the following list of contents from six rucksacks:\n",
    "\n",
    "vJrwpWtwJgWrhcsFMMfFFhFp\n",
    "jqHRNqRjqzjGDLGLrsFMfFZSrLrFZsSL\n",
    "PmmdzqPrVvPwwTWBwg\n",
    "wMqvLMZHhHMvwLHjbvcjnnSBnvTQFn\n",
    "ttgJtRGJQctTZtZT\n",
    "CrZsJsPPZsGzwwsLwLmpwMDw\n",
    "\n",
    "    The first rucksack contains the items vJrwpWtwJgWrhcsFMMfFFhFp, which means its first compartment contains the items vJrwpWtwJgWr, while the second compartment contains the items hcsFMMfFFhFp. The only item type that appears in both compartments is lowercase p.\n",
    "    The second rucksack's compartments contain jqHRNqRjqzjGDLGL and rsFMfFZSrLrFZsSL. The only item type that appears in both compartments is uppercase L.\n",
    "    The third rucksack's compartments contain PmmdzqPrV and vPwwTWBwg; the only common item type is uppercase P.\n",
    "    The fourth rucksack's compartments only share item type v.\n",
    "    The fifth rucksack's compartments only share item type t.\n",
    "    The sixth rucksack's compartments only share item type s.\n",
    "\n",
    "To help prioritize item rearrangement, every item type can be converted to a priority:\n",
    "\n",
    "    Lowercase item types a through z have priorities 1 through 26.\n",
    "    Uppercase item types A through Z have priorities 27 through 52.\n",
    "\n",
    "In the above example, the priority of the item type that appears in both compartments of each rucksack is 16 (p), 38 (L), 42 (P), 22 (v), 20 (t), and 19 (s); the sum of these is 157.\n",
    "\n",
    "Find the item type that appears in both compartments of each rucksack. What is the sum of the priorities of those item types?\n"
   ]
  },
  {
   "cell_type": "code",
   "execution_count": 2,
   "id": "b658f358",
   "metadata": {},
   "outputs": [
    {
     "data": {
      "text/plain": [
       "\u001b[32mimport \u001b[39m\u001b[36mscala.io.Source\n",
       "\n",
       "\u001b[39m\n",
       "\u001b[36mfilename\u001b[39m: \u001b[32mString\u001b[39m = \u001b[32m\"day3input\"\u001b[39m\n",
       "\u001b[36mrawData\u001b[39m: \u001b[32mList\u001b[39m[\u001b[32mString\u001b[39m] = \u001b[33mList\u001b[39m(\n",
       "  \u001b[32m\"NGvdqJmJvpNbGRMGQgRsfgfn\"\u001b[39m,\n",
       "  \u001b[32m\"WlHTHShlLwSWjFRsncfbcwsgQc\"\u001b[39m,\n",
       "  \u001b[32m\"BHtSBHWHSCWLZHlhjTHLLdbNNqNpzpDzNvDvtPmmPp\"\u001b[39m,\n",
       "  \u001b[32m\"JJSShnTpDSJJlllfwBNVbMQWwhQhgQtt\"\u001b[39m,\n",
       "  \u001b[32m\"cTzrvrHdLwwzttQNWB\"\u001b[39m,\n",
       "  \u001b[32m\"qrFqTFvqZvrmsplsjlnDflnZ\"\u001b[39m,\n",
       "  \u001b[32m\"mhhhVHvNNddHMwBqQwlWZZtv\"\u001b[39m,\n",
       "  \u001b[32m\"fbjzjJllCtWjjrZtjq\"\u001b[39m,\n",
       "  \u001b[32m\"CbgcgpPRDJfzVHFFnSnsSDlm\"\u001b[39m,\n",
       "  \u001b[32m\"ZqBPqBQnPLmqZsFqhsvFsLZQMfSSMbbWddWbjbJSrgWgJf\"\u001b[39m,\n",
       "  \u001b[32m\"NRHnlllcDwwCNClNtttHbNJrSJNfbdWMdfbWgdrJ\"\u001b[39m,\n",
       "  \u001b[32m\"cHGlzTptHtCpncHnCpHpRGzDmvVhqLmvLPmPvLqPmzsqqmPB\"\u001b[39m,\n",
       "  \u001b[32m\"rCzVtMMbMvCmmvGlclFQFfLpJFJfJpcLHPJL\"\u001b[39m,\n",
       "  \u001b[32m\"nDGGwqGqnRTfpHLpRFpLFf\"\u001b[39m,\n",
       "  \u001b[32m\"ZNdNTDsWgNZsZBndnGrzrlMrjgrmjVGjvC\"\u001b[39m,\n",
       "  \u001b[32m\"MgFZHFTgqFFDZZDTdVdHrzQvLzCGwpCPrGLqQpzz\"\u001b[39m,\n",
       "  \u001b[32m\"JsnmbjhmffJbRNJppzPPzwzzrwdv\"\u001b[39m,\n",
       "  \u001b[32m\"lfblfthBRbBRjnjhBtBlZgdVcFSTVFDtSSWgMcdM\"\u001b[39m,\n",
       "  \u001b[32m\"hPVhVhWPCMhlDTTWdrPlTcLjfbZbFNjZBbFNBbdBFbsB\"\u001b[39m,\n",
       "  \u001b[32m\"MHSwMJpHnqJHwtqHGqGGmvqZsZFjBmsBNRBFfLbsFsZfsZ\"\u001b[39m,\n",
       "  \u001b[32m\"pqtMHHQpvqnwMpgJMCChTQhVVlclPWrCCD\"\u001b[39m,\n",
       "  \u001b[32m\"zRBBhZFwWZlBQpMZNNNJsfDpLsNsJppN\"\u001b[39m,\n",
       "  \u001b[32m\"SvggPbjvVSvvtgGVPbbnSMcCLtMrDddssJdsLdfdCD\"\u001b[39m,\n",
       "  \u001b[32m\"mTSmMgHjgmgGgqzTwZwBlBFzwB\"\u001b[39m,\n",
       "  \u001b[32m\"WLzWZHWSZPFRVSPSPM\"\u001b[39m,\n",
       "  \u001b[32m\"hmrvmGvfTCmhBGBqTfnmJFfdbQcwdMhMwRdbQMVQQcMhsQ\"\u001b[39m,\n",
       "  \u001b[32m\"JGJJnrnnCmqBTJTrNBqBLDzHFLFDNgjZlWtDNZHL\"\u001b[39m,\n",
       "  \u001b[32m\"bwbbnWwpbTwFHwRzzzmH\"\u001b[39m,\n",
       "  \u001b[32m\"ZccjZjddjPVhJmrBQHHFQRHcWF\"\u001b[39m,\n",
       "  \u001b[32m\"NVhWldsMjZZZLSnvSTGTgvMb\"\u001b[39m,\n",
       "  \u001b[32m\"ccJbHpzccZJsNpJCmHHlBTgHnlTPmF\"\u001b[39m,\n",
       "  \u001b[32m\"qvQGQfDVhhDfvVfVDSdDCbFnjmllPQjlbCmnFgjg\"\u001b[39m,\n",
       "  \u001b[32m\"hSbtWRGvhdfDVdVRfvRNpsWsZLNMZzcswLZWMM\"\u001b[39m,\n",
       "  \u001b[32m\"vlTdlBTMdtjcvLGmtb\"\u001b[39m,\n",
       "  \u001b[32m\"SSgfSsJngCSSwNFgspHFNFFpjlbGjQbbQGLthLnWtmWWhjbm\"\u001b[39m,\n",
       "  \u001b[32m\"SJsfqqgfNHwJfHgCpwzBZVMDBPMMRPTlqzBr\"\u001b[39m,\n",
       "  \u001b[32m\"VHsVhtbRHRpVHBfBCJdNfGjggGJdqLGq\"\u001b[39m,\n",
       "  \u001b[32m\"wSzSrrSMPDSDwzPjdqJjNwGdsLqGjj\"\u001b[39m,\n",
       "..."
      ]
     },
     "execution_count": 2,
     "metadata": {},
     "output_type": "execute_result"
    }
   ],
   "source": [
    "import scala.io.Source\n",
    "\n",
    "val filename = \"day3input\"\n",
    "\n",
    "val rawData = Source.fromFile(filename).getLines.toList"
   ]
  },
  {
   "cell_type": "code",
   "execution_count": 21,
   "id": "790ea510",
   "metadata": {},
   "outputs": [
    {
     "data": {
      "text/plain": [
       "\u001b[36mrucksacks\u001b[39m: \u001b[32mList\u001b[39m[\u001b[32mList\u001b[39m[\u001b[32mString\u001b[39m]] = \u001b[33mList\u001b[39m(\n",
       "  \u001b[33mList\u001b[39m(\n",
       "    \u001b[32m\"N\"\u001b[39m,\n",
       "    \u001b[32m\"G\"\u001b[39m,\n",
       "    \u001b[32m\"v\"\u001b[39m,\n",
       "    \u001b[32m\"d\"\u001b[39m,\n",
       "    \u001b[32m\"q\"\u001b[39m,\n",
       "    \u001b[32m\"J\"\u001b[39m,\n",
       "    \u001b[32m\"m\"\u001b[39m,\n",
       "    \u001b[32m\"J\"\u001b[39m,\n",
       "    \u001b[32m\"v\"\u001b[39m,\n",
       "    \u001b[32m\"p\"\u001b[39m,\n",
       "    \u001b[32m\"N\"\u001b[39m,\n",
       "    \u001b[32m\"b\"\u001b[39m,\n",
       "    \u001b[32m\"G\"\u001b[39m,\n",
       "    \u001b[32m\"R\"\u001b[39m,\n",
       "    \u001b[32m\"M\"\u001b[39m,\n",
       "    \u001b[32m\"G\"\u001b[39m,\n",
       "    \u001b[32m\"Q\"\u001b[39m,\n",
       "    \u001b[32m\"g\"\u001b[39m,\n",
       "    \u001b[32m\"R\"\u001b[39m,\n",
       "    \u001b[32m\"s\"\u001b[39m,\n",
       "    \u001b[32m\"f\"\u001b[39m,\n",
       "    \u001b[32m\"g\"\u001b[39m,\n",
       "    \u001b[32m\"f\"\u001b[39m,\n",
       "    \u001b[32m\"n\"\u001b[39m\n",
       "  ),\n",
       "  \u001b[33mList\u001b[39m(\n",
       "    \u001b[32m\"W\"\u001b[39m,\n",
       "    \u001b[32m\"l\"\u001b[39m,\n",
       "    \u001b[32m\"H\"\u001b[39m,\n",
       "    \u001b[32m\"T\"\u001b[39m,\n",
       "    \u001b[32m\"H\"\u001b[39m,\n",
       "    \u001b[32m\"S\"\u001b[39m,\n",
       "    \u001b[32m\"h\"\u001b[39m,\n",
       "    \u001b[32m\"l\"\u001b[39m,\n",
       "    \u001b[32m\"L\"\u001b[39m,\n",
       "    \u001b[32m\"w\"\u001b[39m,\n",
       "    \u001b[32m\"S\"\u001b[39m,\n",
       "...\n",
       "\u001b[36mcompartments\u001b[39m: \u001b[32mList\u001b[39m[(\u001b[32mList\u001b[39m[\u001b[32mString\u001b[39m], \u001b[32mList\u001b[39m[\u001b[32mString\u001b[39m])] = \u001b[33mList\u001b[39m(\n",
       "  (\n",
       "    \u001b[33mList\u001b[39m(\u001b[32m\"N\"\u001b[39m, \u001b[32m\"G\"\u001b[39m, \u001b[32m\"v\"\u001b[39m, \u001b[32m\"d\"\u001b[39m, \u001b[32m\"q\"\u001b[39m, \u001b[32m\"J\"\u001b[39m, \u001b[32m\"m\"\u001b[39m, \u001b[32m\"J\"\u001b[39m, \u001b[32m\"v\"\u001b[39m, \u001b[32m\"p\"\u001b[39m, \u001b[32m\"N\"\u001b[39m, \u001b[32m\"b\"\u001b[39m),\n",
       "    \u001b[33mList\u001b[39m(\u001b[32m\"G\"\u001b[39m, \u001b[32m\"R\"\u001b[39m, \u001b[32m\"M\"\u001b[39m, \u001b[32m\"G\"\u001b[39m, \u001b[32m\"Q\"\u001b[39m, \u001b[32m\"g\"\u001b[39m, \u001b[32m\"R\"\u001b[39m, \u001b[32m\"s\"\u001b[39m, \u001b[32m\"f\"\u001b[39m, \u001b[32m\"g\"\u001b[39m, \u001b[32m\"f\"\u001b[39m, \u001b[32m\"n\"\u001b[39m)\n",
       "  ),\n",
       "  (\n",
       "    \u001b[33mList\u001b[39m(\u001b[32m\"W\"\u001b[39m, \u001b[32m\"l\"\u001b[39m, \u001b[32m\"H\"\u001b[39m, \u001b[32m\"T\"\u001b[39m, \u001b[32m\"H\"\u001b[39m, \u001b[32m\"S\"\u001b[39m, \u001b[32m\"h\"\u001b[39m, \u001b[32m\"l\"\u001b[39m, \u001b[32m\"L\"\u001b[39m, \u001b[32m\"w\"\u001b[39m, \u001b[32m\"S\"\u001b[39m, \u001b[32m\"W\"\u001b[39m, \u001b[32m\"j\"\u001b[39m),\n",
       "    \u001b[33mList\u001b[39m(\u001b[32m\"F\"\u001b[39m, \u001b[32m\"R\"\u001b[39m, \u001b[32m\"s\"\u001b[39m, \u001b[32m\"n\"\u001b[39m, \u001b[32m\"c\"\u001b[39m, \u001b[32m\"f\"\u001b[39m, \u001b[32m\"b\"\u001b[39m, \u001b[32m\"c\"\u001b[39m, \u001b[32m\"w\"\u001b[39m, \u001b[32m\"s\"\u001b[39m, \u001b[32m\"g\"\u001b[39m, \u001b[32m\"Q\"\u001b[39m, \u001b[32m\"c\"\u001b[39m)\n",
       "  ),\n",
       "  (\n",
       "    \u001b[33mList\u001b[39m(\n",
       "      \u001b[32m\"B\"\u001b[39m,\n",
       "      \u001b[32m\"H\"\u001b[39m,\n",
       "      \u001b[32m\"t\"\u001b[39m,\n",
       "      \u001b[32m\"S\"\u001b[39m,\n",
       "      \u001b[32m\"B\"\u001b[39m,\n",
       "      \u001b[32m\"H\"\u001b[39m,\n",
       "      \u001b[32m\"W\"\u001b[39m,\n",
       "      \u001b[32m\"H\"\u001b[39m,\n",
       "      \u001b[32m\"S\"\u001b[39m,\n",
       "      \u001b[32m\"C\"\u001b[39m,\n",
       "      \u001b[32m\"W\"\u001b[39m,\n",
       "      \u001b[32m\"L\"\u001b[39m,\n",
       "      \u001b[32m\"Z\"\u001b[39m,\n",
       "      \u001b[32m\"H\"\u001b[39m,\n",
       "      \u001b[32m\"l\"\u001b[39m,\n",
       "      \u001b[32m\"h\"\u001b[39m,\n",
       "      \u001b[32m\"j\"\u001b[39m,\n",
       "      \u001b[32m\"T\"\u001b[39m,\n",
       "      \u001b[32m\"H\"\u001b[39m,\n",
       "      \u001b[32m\"L\"\u001b[39m,\n",
       "      \u001b[32m\"L\"\u001b[39m\n",
       "    ),\n",
       "    \u001b[33mList\u001b[39m(\n",
       "      \u001b[32m\"d\"\u001b[39m,\n",
       "      \u001b[32m\"b\"\u001b[39m,\n",
       "      \u001b[32m\"N\"\u001b[39m,\n",
       "      \u001b[32m\"N\"\u001b[39m,\n",
       "      \u001b[32m\"q\"\u001b[39m,\n",
       "..."
      ]
     },
     "execution_count": 21,
     "metadata": {},
     "output_type": "execute_result"
    }
   ],
   "source": [
    "val rucksacks = rawData.map(_.split(\"\").toList)\n",
    "val compartments = rucksacks.map(rucksack => rucksack.splitAt(rucksack.length / 2))"
   ]
  },
  {
   "cell_type": "code",
   "execution_count": 22,
   "id": "92710225",
   "metadata": {},
   "outputs": [
    {
     "data": {
      "text/plain": [
       "\u001b[36mcommon\u001b[39m: \u001b[32mList\u001b[39m[\u001b[32mChar\u001b[39m] = \u001b[33mList\u001b[39m(\n",
       "  \u001b[32m'G'\u001b[39m,\n",
       "  \u001b[32m'w'\u001b[39m,\n",
       "  \u001b[32m't'\u001b[39m,\n",
       "  \u001b[32m'h'\u001b[39m,\n",
       "  \u001b[32m'z'\u001b[39m,\n",
       "  \u001b[32m'Z'\u001b[39m,\n",
       "  \u001b[32m'v'\u001b[39m,\n",
       "  \u001b[32m'j'\u001b[39m,\n",
       "  \u001b[32m'D'\u001b[39m,\n",
       "  \u001b[32m'Q'\u001b[39m,\n",
       "  \u001b[32m'N'\u001b[39m,\n",
       "  \u001b[32m'z'\u001b[39m,\n",
       "  \u001b[32m'c'\u001b[39m,\n",
       "  \u001b[32m'R'\u001b[39m,\n",
       "  \u001b[32m'g'\u001b[39m,\n",
       "  \u001b[32m'q'\u001b[39m,\n",
       "  \u001b[32m'J'\u001b[39m,\n",
       "  \u001b[32m't'\u001b[39m,\n",
       "  \u001b[32m'd'\u001b[39m,\n",
       "  \u001b[32m'm'\u001b[39m,\n",
       "  \u001b[32m'Q'\u001b[39m,\n",
       "  \u001b[32m'p'\u001b[39m,\n",
       "  \u001b[32m't'\u001b[39m,\n",
       "  \u001b[32m'T'\u001b[39m,\n",
       "  \u001b[32m'S'\u001b[39m,\n",
       "  \u001b[32m'h'\u001b[39m,\n",
       "  \u001b[32m'N'\u001b[39m,\n",
       "  \u001b[32m'w'\u001b[39m,\n",
       "  \u001b[32m'c'\u001b[39m,\n",
       "  \u001b[32m'M'\u001b[39m,\n",
       "  \u001b[32m'H'\u001b[39m,\n",
       "  \u001b[32m'Q'\u001b[39m,\n",
       "  \u001b[32m'W'\u001b[39m,\n",
       "  \u001b[32m'v'\u001b[39m,\n",
       "  \u001b[32m'n'\u001b[39m,\n",
       "  \u001b[32m'q'\u001b[39m,\n",
       "  \u001b[32m'f'\u001b[39m,\n",
       "  \u001b[32m'w'\u001b[39m,\n",
       "..."
      ]
     },
     "execution_count": 22,
     "metadata": {},
     "output_type": "execute_result"
    }
   ],
   "source": [
    "val common = compartments.map(rucksack => (rucksack._1 intersect rucksack._2).toSet.head).map(_.toCharArray.head)"
   ]
  },
  {
   "cell_type": "code",
   "execution_count": 17,
   "id": "b30622ac",
   "metadata": {},
   "outputs": [
    {
     "data": {
      "text/plain": [
       "\u001b[36mupercaseASCIIOffset\u001b[39m: \u001b[32mInt\u001b[39m = \u001b[32m65\u001b[39m\n",
       "\u001b[36mlowercaseASCIOffset\u001b[39m: \u001b[32mInt\u001b[39m = \u001b[32m97\u001b[39m\n",
       "defined \u001b[32mfunction\u001b[39m \u001b[36mconvertToNumber\u001b[39m"
      ]
     },
     "execution_count": 17,
     "metadata": {},
     "output_type": "execute_result"
    }
   ],
   "source": [
    "val upercaseASCIIOffset = 65\n",
    "val lowercaseASCIOffset = 97\n",
    "\n",
    "def convertToNumber(item: Char) = \n",
    "    if (item.isUpper) item.toInt - upercaseASCIIOffset + 27 else item.toInt - lowercaseASCIOffset + 1\n",
    "\n",
    "        "
   ]
  },
  {
   "cell_type": "code",
   "execution_count": 18,
   "id": "f0bf9dcb",
   "metadata": {},
   "outputs": [
    {
     "data": {
      "text/plain": [
       "\u001b[36mpriorities\u001b[39m: \u001b[32mList\u001b[39m[\u001b[32mInt\u001b[39m] = \u001b[33mList\u001b[39m(\n",
       "  \u001b[32m33\u001b[39m,\n",
       "  \u001b[32m23\u001b[39m,\n",
       "  \u001b[32m20\u001b[39m,\n",
       "  \u001b[32m8\u001b[39m,\n",
       "  \u001b[32m26\u001b[39m,\n",
       "  \u001b[32m52\u001b[39m,\n",
       "  \u001b[32m22\u001b[39m,\n",
       "  \u001b[32m10\u001b[39m,\n",
       "  \u001b[32m30\u001b[39m,\n",
       "  \u001b[32m43\u001b[39m,\n",
       "  \u001b[32m40\u001b[39m,\n",
       "  \u001b[32m26\u001b[39m,\n",
       "  \u001b[32m3\u001b[39m,\n",
       "  \u001b[32m44\u001b[39m,\n",
       "  \u001b[32m7\u001b[39m,\n",
       "  \u001b[32m17\u001b[39m,\n",
       "  \u001b[32m36\u001b[39m,\n",
       "  \u001b[32m20\u001b[39m,\n",
       "  \u001b[32m4\u001b[39m,\n",
       "  \u001b[32m13\u001b[39m,\n",
       "  \u001b[32m43\u001b[39m,\n",
       "  \u001b[32m16\u001b[39m,\n",
       "  \u001b[32m20\u001b[39m,\n",
       "  \u001b[32m46\u001b[39m,\n",
       "  \u001b[32m45\u001b[39m,\n",
       "  \u001b[32m8\u001b[39m,\n",
       "  \u001b[32m40\u001b[39m,\n",
       "  \u001b[32m23\u001b[39m,\n",
       "  \u001b[32m3\u001b[39m,\n",
       "  \u001b[32m39\u001b[39m,\n",
       "  \u001b[32m34\u001b[39m,\n",
       "  \u001b[32m43\u001b[39m,\n",
       "  \u001b[32m49\u001b[39m,\n",
       "  \u001b[32m22\u001b[39m,\n",
       "  \u001b[32m14\u001b[39m,\n",
       "  \u001b[32m17\u001b[39m,\n",
       "  \u001b[32m6\u001b[39m,\n",
       "  \u001b[32m23\u001b[39m,\n",
       "..."
      ]
     },
     "execution_count": 18,
     "metadata": {},
     "output_type": "execute_result"
    }
   ],
   "source": [
    "val priorities = common.map(convertToNumber)"
   ]
  },
  {
   "cell_type": "code",
   "execution_count": 19,
   "id": "b1a45bd0",
   "metadata": {},
   "outputs": [
    {
     "data": {
      "text/plain": [
       "\u001b[36msum\u001b[39m: \u001b[32mInt\u001b[39m = \u001b[32m8139\u001b[39m"
      ]
     },
     "execution_count": 19,
     "metadata": {},
     "output_type": "execute_result"
    }
   ],
   "source": [
    "val sum = priorities.sum"
   ]
  },
  {
   "cell_type": "markdown",
   "id": "5cb2cb39",
   "metadata": {},
   "source": [
    "--- Part Two ---\n",
    "\n",
    "As you finish identifying the misplaced items, the Elves come to you with another issue.\n",
    "\n",
    "For safety, the Elves are divided into groups of three. Every Elf carries a badge that identifies their group. For efficiency, within each group of three Elves, the badge is the only item type carried by all three Elves. That is, if a group's badge is item type B, then all three Elves will have item type B somewhere in their rucksack, and at most two of the Elves will be carrying any other item type.\n",
    "\n",
    "The problem is that someone forgot to put this year's updated authenticity sticker on the badges. All of the badges need to be pulled out of the rucksacks so the new authenticity stickers can be attached.\n",
    "\n",
    "Additionally, nobody wrote down which item type corresponds to each group's badges. The only way to tell which item type is the right one is by finding the one item type that is common between all three Elves in each group.\n",
    "\n",
    "Every set of three lines in your list corresponds to a single group, but each group can have a different badge item type. So, in the above example, the first group's rucksacks are the first three lines:\n",
    "\n",
    "vJrwpWtwJgWrhcsFMMfFFhFp\n",
    "jqHRNqRjqzjGDLGLrsFMfFZSrLrFZsSL\n",
    "PmmdzqPrVvPwwTWBwg\n",
    "\n",
    "And the second group's rucksacks are the next three lines:\n",
    "\n",
    "wMqvLMZHhHMvwLHjbvcjnnSBnvTQFn\n",
    "ttgJtRGJQctTZtZT\n",
    "CrZsJsPPZsGzwwsLwLmpwMDw\n",
    "\n",
    "In the first group, the only item type that appears in all three rucksacks is lowercase r; this must be their badges. In the second group, their badge item type must be Z.\n",
    "\n",
    "Priorities for these items must still be found to organize the sticker attachment efforts: here, they are 18 (r) for the first group and 52 (Z) for the second group. The sum of these is 70.\n",
    "\n",
    "Find the item type that corresponds to the badges of each three-Elf group. What is the sum of the priorities of those item types?\n"
   ]
  },
  {
   "cell_type": "code",
   "execution_count": 23,
   "id": "c1a7c7f0",
   "metadata": {},
   "outputs": [
    {
     "data": {
      "text/plain": [
       "\u001b[36mgroups\u001b[39m: \u001b[32mList\u001b[39m[\u001b[32mList\u001b[39m[\u001b[32mList\u001b[39m[\u001b[32mString\u001b[39m]]] = \u001b[33mList\u001b[39m(\n",
       "  \u001b[33mList\u001b[39m(\n",
       "    \u001b[33mList\u001b[39m(\n",
       "      \u001b[32m\"N\"\u001b[39m,\n",
       "      \u001b[32m\"G\"\u001b[39m,\n",
       "      \u001b[32m\"v\"\u001b[39m,\n",
       "      \u001b[32m\"d\"\u001b[39m,\n",
       "      \u001b[32m\"q\"\u001b[39m,\n",
       "      \u001b[32m\"J\"\u001b[39m,\n",
       "      \u001b[32m\"m\"\u001b[39m,\n",
       "      \u001b[32m\"J\"\u001b[39m,\n",
       "      \u001b[32m\"v\"\u001b[39m,\n",
       "      \u001b[32m\"p\"\u001b[39m,\n",
       "      \u001b[32m\"N\"\u001b[39m,\n",
       "      \u001b[32m\"b\"\u001b[39m,\n",
       "      \u001b[32m\"G\"\u001b[39m,\n",
       "      \u001b[32m\"R\"\u001b[39m,\n",
       "      \u001b[32m\"M\"\u001b[39m,\n",
       "      \u001b[32m\"G\"\u001b[39m,\n",
       "      \u001b[32m\"Q\"\u001b[39m,\n",
       "      \u001b[32m\"g\"\u001b[39m,\n",
       "      \u001b[32m\"R\"\u001b[39m,\n",
       "      \u001b[32m\"s\"\u001b[39m,\n",
       "      \u001b[32m\"f\"\u001b[39m,\n",
       "      \u001b[32m\"g\"\u001b[39m,\n",
       "      \u001b[32m\"f\"\u001b[39m,\n",
       "      \u001b[32m\"n\"\u001b[39m\n",
       "    ),\n",
       "    \u001b[33mList\u001b[39m(\n",
       "      \u001b[32m\"W\"\u001b[39m,\n",
       "      \u001b[32m\"l\"\u001b[39m,\n",
       "      \u001b[32m\"H\"\u001b[39m,\n",
       "      \u001b[32m\"T\"\u001b[39m,\n",
       "      \u001b[32m\"H\"\u001b[39m,\n",
       "      \u001b[32m\"S\"\u001b[39m,\n",
       "      \u001b[32m\"h\"\u001b[39m,\n",
       "      \u001b[32m\"l\"\u001b[39m,\n",
       "      \u001b[32m\"L\"\u001b[39m,\n",
       "      \u001b[32m\"w\"\u001b[39m,\n",
       "..."
      ]
     },
     "execution_count": 23,
     "metadata": {},
     "output_type": "execute_result"
    }
   ],
   "source": [
    "val groups = rucksacks.grouped(3).toList"
   ]
  },
  {
   "cell_type": "code",
   "execution_count": 26,
   "id": "53e3684b",
   "metadata": {},
   "outputs": [
    {
     "data": {
      "text/plain": [
       "\u001b[36mgroupType\u001b[39m: \u001b[32mList\u001b[39m[\u001b[32mChar\u001b[39m] = \u001b[33mList\u001b[39m(\n",
       "  \u001b[32m'b'\u001b[39m,\n",
       "  \u001b[32m'T'\u001b[39m,\n",
       "  \u001b[32m'l'\u001b[39m,\n",
       "  \u001b[32m'n'\u001b[39m,\n",
       "  \u001b[32m'G'\u001b[39m,\n",
       "  \u001b[32m'd'\u001b[39m,\n",
       "  \u001b[32m'M'\u001b[39m,\n",
       "  \u001b[32m'M'\u001b[39m,\n",
       "  \u001b[32m'F'\u001b[39m,\n",
       "  \u001b[32m'W'\u001b[39m,\n",
       "  \u001b[32m'b'\u001b[39m,\n",
       "  \u001b[32m'l'\u001b[39m,\n",
       "  \u001b[32m's'\u001b[39m,\n",
       "  \u001b[32m'j'\u001b[39m,\n",
       "  \u001b[32m'L'\u001b[39m,\n",
       "  \u001b[32m'Z'\u001b[39m,\n",
       "  \u001b[32m'p'\u001b[39m,\n",
       "  \u001b[32m'h'\u001b[39m,\n",
       "  \u001b[32m'N'\u001b[39m,\n",
       "  \u001b[32m'W'\u001b[39m,\n",
       "  \u001b[32m'N'\u001b[39m,\n",
       "  \u001b[32m'f'\u001b[39m,\n",
       "  \u001b[32m't'\u001b[39m,\n",
       "  \u001b[32m'F'\u001b[39m,\n",
       "  \u001b[32m'r'\u001b[39m,\n",
       "  \u001b[32m'v'\u001b[39m,\n",
       "  \u001b[32m'g'\u001b[39m,\n",
       "  \u001b[32m'S'\u001b[39m,\n",
       "  \u001b[32m'M'\u001b[39m,\n",
       "  \u001b[32m'H'\u001b[39m,\n",
       "  \u001b[32m'd'\u001b[39m,\n",
       "  \u001b[32m'm'\u001b[39m,\n",
       "  \u001b[32m'S'\u001b[39m,\n",
       "  \u001b[32m'f'\u001b[39m,\n",
       "  \u001b[32m'v'\u001b[39m,\n",
       "  \u001b[32m'M'\u001b[39m,\n",
       "  \u001b[32m'd'\u001b[39m,\n",
       "  \u001b[32m'G'\u001b[39m,\n",
       "..."
      ]
     },
     "execution_count": 26,
     "metadata": {},
     "output_type": "execute_result"
    }
   ],
   "source": [
    "val groupType = groups.map(\n",
    "    group => group match {\n",
    "        case List(a, b, c) => (a intersect b intersect c).toSet.head\n",
    "    }\n",
    ").map(_.toCharArray.head)"
   ]
  },
  {
   "cell_type": "code",
   "execution_count": 27,
   "id": "fde18cbe",
   "metadata": {},
   "outputs": [
    {
     "data": {
      "text/plain": [
       "\u001b[36mgroupPriorities\u001b[39m: \u001b[32mList\u001b[39m[\u001b[32mInt\u001b[39m] = \u001b[33mList\u001b[39m(\n",
       "  \u001b[32m2\u001b[39m,\n",
       "  \u001b[32m46\u001b[39m,\n",
       "  \u001b[32m12\u001b[39m,\n",
       "  \u001b[32m14\u001b[39m,\n",
       "  \u001b[32m33\u001b[39m,\n",
       "  \u001b[32m4\u001b[39m,\n",
       "  \u001b[32m39\u001b[39m,\n",
       "  \u001b[32m39\u001b[39m,\n",
       "  \u001b[32m32\u001b[39m,\n",
       "  \u001b[32m49\u001b[39m,\n",
       "  \u001b[32m2\u001b[39m,\n",
       "  \u001b[32m12\u001b[39m,\n",
       "  \u001b[32m19\u001b[39m,\n",
       "  \u001b[32m10\u001b[39m,\n",
       "  \u001b[32m38\u001b[39m,\n",
       "  \u001b[32m52\u001b[39m,\n",
       "  \u001b[32m16\u001b[39m,\n",
       "  \u001b[32m8\u001b[39m,\n",
       "  \u001b[32m40\u001b[39m,\n",
       "  \u001b[32m49\u001b[39m,\n",
       "  \u001b[32m40\u001b[39m,\n",
       "  \u001b[32m6\u001b[39m,\n",
       "  \u001b[32m20\u001b[39m,\n",
       "  \u001b[32m32\u001b[39m,\n",
       "  \u001b[32m18\u001b[39m,\n",
       "  \u001b[32m22\u001b[39m,\n",
       "  \u001b[32m7\u001b[39m,\n",
       "  \u001b[32m45\u001b[39m,\n",
       "  \u001b[32m39\u001b[39m,\n",
       "  \u001b[32m34\u001b[39m,\n",
       "  \u001b[32m4\u001b[39m,\n",
       "  \u001b[32m13\u001b[39m,\n",
       "  \u001b[32m45\u001b[39m,\n",
       "  \u001b[32m6\u001b[39m,\n",
       "  \u001b[32m22\u001b[39m,\n",
       "  \u001b[32m39\u001b[39m,\n",
       "  \u001b[32m4\u001b[39m,\n",
       "  \u001b[32m33\u001b[39m,\n",
       "..."
      ]
     },
     "execution_count": 27,
     "metadata": {},
     "output_type": "execute_result"
    }
   ],
   "source": [
    "val groupPriorities = groupType.map(convertToNumber)"
   ]
  },
  {
   "cell_type": "code",
   "execution_count": 28,
   "id": "ad4f7f53",
   "metadata": {},
   "outputs": [
    {
     "data": {
      "text/plain": [
       "\u001b[36mgroupSum\u001b[39m: \u001b[32mInt\u001b[39m = \u001b[32m2668\u001b[39m"
      ]
     },
     "execution_count": 28,
     "metadata": {},
     "output_type": "execute_result"
    }
   ],
   "source": [
    "val groupSum = groupPriorities.sum"
   ]
  },
  {
   "cell_type": "code",
   "execution_count": null,
   "id": "45c08378",
   "metadata": {},
   "outputs": [],
   "source": []
  }
 ],
 "metadata": {
  "kernelspec": {
   "display_name": "Scala",
   "language": "scala",
   "name": "scala"
  },
  "language_info": {
   "codemirror_mode": "text/x-scala",
   "file_extension": ".sc",
   "mimetype": "text/x-scala",
   "name": "scala",
   "nbconvert_exporter": "script",
   "version": "2.13.10"
  }
 },
 "nbformat": 4,
 "nbformat_minor": 5
}
