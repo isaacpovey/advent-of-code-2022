{
 "cells": [
  {
   "cell_type": "markdown",
   "id": "434ae98e",
   "metadata": {},
   "source": [
    "--- Day 5: Supply Stacks ---\n",
    "\n",
    "The expedition can depart as soon as the final supplies have been unloaded from the ships. Supplies are stored in stacks of marked crates, but because the needed supplies are buried under many other crates, the crates need to be rearranged.\n",
    "\n",
    "The ship has a giant cargo crane capable of moving crates between stacks. To ensure none of the crates get crushed or fall over, the crane operator will rearrange them in a series of carefully-planned steps. After the crates are rearranged, the desired crates will be at the top of each stack.\n",
    "\n",
    "The Elves don't want to interrupt the crane operator during this delicate procedure, but they forgot to ask her which crate will end up where, and they want to be ready to unload them as soon as possible so they can embark.\n",
    "\n",
    "They do, however, have a drawing of the starting stacks of crates and the rearrangement procedure (your puzzle input). For example:\n",
    "\n",
    "    [D]    \n",
    "[N] [C]    \n",
    "[Z] [M] [P]\n",
    " 1   2   3 \n",
    "\n",
    "move 1 from 2 to 1\n",
    "move 3 from 1 to 3\n",
    "move 2 from 2 to 1\n",
    "move 1 from 1 to 2\n",
    "\n",
    "In this example, there are three stacks of crates. Stack 1 contains two crates: crate Z is on the bottom, and crate N is on top. Stack 2 contains three crates; from bottom to top, they are crates M, C, and D. Finally, stack 3 contains a single crate, P.\n",
    "\n",
    "Then, the rearrangement procedure is given. In each step of the procedure, a quantity of crates is moved from one stack to a different stack. In the first step of the above rearrangement procedure, one crate is moved from stack 2 to stack 1, resulting in this configuration:\n",
    "\n",
    "[D]        \n",
    "[N] [C]    \n",
    "[Z] [M] [P]\n",
    " 1   2   3 \n",
    "\n",
    "In the second step, three crates are moved from stack 1 to stack 3. Crates are moved one at a time, so the first crate to be moved (D) ends up below the second and third crates:\n",
    "\n",
    "        [Z]\n",
    "        [N]\n",
    "    [C] [D]\n",
    "    [M] [P]\n",
    " 1   2   3\n",
    "\n",
    "Then, both crates are moved from stack 2 to stack 1. Again, because crates are moved one at a time, crate C ends up below crate M:\n",
    "\n",
    "        [Z]\n",
    "        [N]\n",
    "[M]     [D]\n",
    "[C]     [P]\n",
    " 1   2   3\n",
    "\n",
    "Finally, one crate is moved from stack 1 to stack 2:\n",
    "\n",
    "        [Z]\n",
    "        [N]\n",
    "        [D]\n",
    "[C] [M] [P]\n",
    " 1   2   3\n",
    "\n",
    "The Elves just need to know which crate will end up on top of each stack; in this example, the top crates are C in stack 1, M in stack 2, and Z in stack 3, so you should combine these together and give the Elves the message CMZ.\n",
    "\n",
    "After the rearrangement procedure completes, what crate ends up on top of each stack?\n"
   ]
  },
  {
   "cell_type": "code",
   "execution_count": 1,
   "id": "eddf5ec6",
   "metadata": {},
   "outputs": [
    {
     "data": {
      "text/plain": [
       "\u001b[32mimport \u001b[39m\u001b[36mscala.io.Source\n",
       "\n",
       "\u001b[39m\n",
       "\u001b[36mfilename\u001b[39m: \u001b[32mString\u001b[39m = \u001b[32m\"day5input\"\u001b[39m\n",
       "\u001b[36mrawData\u001b[39m: \u001b[32mList\u001b[39m[\u001b[32mString\u001b[39m] = \u001b[33mList\u001b[39m(\n",
       "  \u001b[32m\"    [P]                 [C] [C]    \"\u001b[39m,\n",
       "  \u001b[32m\"    [W]         [B]     [G] [V] [V]\"\u001b[39m,\n",
       "  \u001b[32m\"    [V]         [T] [Z] [J] [T] [S]\"\u001b[39m,\n",
       "  \u001b[32m\"    [D] [L]     [Q] [F] [Z] [W] [R]\"\u001b[39m,\n",
       "  \u001b[32m\"    [C] [N] [R] [H] [L] [Q] [F] [G]\"\u001b[39m,\n",
       "  \u001b[32m\"[F] [M] [Z] [H] [G] [W] [L] [R] [H]\"\u001b[39m,\n",
       "  \u001b[32m\"[R] [H] [M] [C] [P] [C] [V] [N] [W]\"\u001b[39m,\n",
       "  \u001b[32m\"[W] [T] [P] [J] [C] [G] [W] [P] [J]\"\u001b[39m,\n",
       "  \u001b[32m\" 1   2   3   4   5   6   7   8   9 \"\u001b[39m,\n",
       "  \u001b[32m\"\"\u001b[39m,\n",
       "  \u001b[32m\"move 2 from 4 to 9\"\u001b[39m,\n",
       "  \u001b[32m\"move 5 from 2 to 9\"\u001b[39m,\n",
       "  \u001b[32m\"move 1 from 5 to 1\"\u001b[39m,\n",
       "  \u001b[32m\"move 3 from 1 to 4\"\u001b[39m,\n",
       "  \u001b[32m\"move 2 from 4 to 6\"\u001b[39m,\n",
       "  \u001b[32m\"move 7 from 6 to 9\"\u001b[39m,\n",
       "  \u001b[32m\"move 5 from 3 to 9\"\u001b[39m,\n",
       "  \u001b[32m\"move 1 from 8 to 6\"\u001b[39m,\n",
       "  \u001b[32m\"move 3 from 2 to 3\"\u001b[39m,\n",
       "  \u001b[32m\"move 12 from 9 to 3\"\u001b[39m,\n",
       "  \u001b[32m\"move 4 from 9 to 7\"\u001b[39m,\n",
       "  \u001b[32m\"move 15 from 3 to 9\"\u001b[39m,\n",
       "  \u001b[32m\"move 1 from 1 to 5\"\u001b[39m,\n",
       "  \u001b[32m\"move 2 from 6 to 5\"\u001b[39m,\n",
       "  \u001b[32m\"move 18 from 9 to 1\"\u001b[39m,\n",
       "  \u001b[32m\"move 6 from 8 to 1\"\u001b[39m,\n",
       "  \u001b[32m\"move 1 from 8 to 7\"\u001b[39m,\n",
       "  \u001b[32m\"move 5 from 7 to 2\"\u001b[39m,\n",
       "  \u001b[32m\"move 6 from 1 to 2\"\u001b[39m,\n",
       "  \u001b[32m\"move 7 from 9 to 6\"\u001b[39m,\n",
       "  \u001b[32m\"move 6 from 1 to 3\"\u001b[39m,\n",
       "  \u001b[32m\"move 5 from 3 to 9\"\u001b[39m,\n",
       "  \u001b[32m\"move 3 from 9 to 1\"\u001b[39m,\n",
       "  \u001b[32m\"move 1 from 7 to 9\"\u001b[39m,\n",
       "  \u001b[32m\"move 4 from 2 to 1\"\u001b[39m,\n",
       "  \u001b[32m\"move 5 from 6 to 3\"\u001b[39m,\n",
       "  \u001b[32m\"move 1 from 3 to 4\"\u001b[39m,\n",
       "  \u001b[32m\"move 1 from 5 to 9\"\u001b[39m,\n",
       "..."
      ]
     },
     "execution_count": 1,
     "metadata": {},
     "output_type": "execute_result"
    }
   ],
   "source": [
    "import scala.io.Source\n",
    "\n",
    "val filename = \"day5input\"\n",
    "\n",
    "val rawData = Source.fromFile(filename).getLines.toList"
   ]
  },
  {
   "cell_type": "code",
   "execution_count": 2,
   "id": "94e0f250",
   "metadata": {},
   "outputs": [
    {
     "data": {
      "text/plain": [
       "\u001b[36msplitInput\u001b[39m: (\u001b[32mList\u001b[39m[\u001b[32mString\u001b[39m], \u001b[32mList\u001b[39m[\u001b[32mString\u001b[39m]) = (\n",
       "  \u001b[33mList\u001b[39m(\n",
       "    \u001b[32m\"    [P]                 [C] [C]    \"\u001b[39m,\n",
       "    \u001b[32m\"    [W]         [B]     [G] [V] [V]\"\u001b[39m,\n",
       "    \u001b[32m\"    [V]         [T] [Z] [J] [T] [S]\"\u001b[39m,\n",
       "    \u001b[32m\"    [D] [L]     [Q] [F] [Z] [W] [R]\"\u001b[39m,\n",
       "    \u001b[32m\"    [C] [N] [R] [H] [L] [Q] [F] [G]\"\u001b[39m,\n",
       "    \u001b[32m\"[F] [M] [Z] [H] [G] [W] [L] [R] [H]\"\u001b[39m,\n",
       "    \u001b[32m\"[R] [H] [M] [C] [P] [C] [V] [N] [W]\"\u001b[39m,\n",
       "    \u001b[32m\"[W] [T] [P] [J] [C] [G] [W] [P] [J]\"\u001b[39m,\n",
       "    \u001b[32m\" 1   2   3   4   5   6   7   8   9 \"\u001b[39m\n",
       "  ),\n",
       "  \u001b[33mList\u001b[39m(\n",
       "    \u001b[32m\"\"\u001b[39m,\n",
       "    \u001b[32m\"move 2 from 4 to 9\"\u001b[39m,\n",
       "    \u001b[32m\"move 5 from 2 to 9\"\u001b[39m,\n",
       "    \u001b[32m\"move 1 from 5 to 1\"\u001b[39m,\n",
       "    \u001b[32m\"move 3 from 1 to 4\"\u001b[39m,\n",
       "    \u001b[32m\"move 2 from 4 to 6\"\u001b[39m,\n",
       "    \u001b[32m\"move 7 from 6 to 9\"\u001b[39m,\n",
       "    \u001b[32m\"move 5 from 3 to 9\"\u001b[39m,\n",
       "    \u001b[32m\"move 1 from 8 to 6\"\u001b[39m,\n",
       "    \u001b[32m\"move 3 from 2 to 3\"\u001b[39m,\n",
       "    \u001b[32m\"move 12 from 9 to 3\"\u001b[39m,\n",
       "    \u001b[32m\"move 4 from 9 to 7\"\u001b[39m,\n",
       "    \u001b[32m\"move 15 from 3 to 9\"\u001b[39m,\n",
       "    \u001b[32m\"move 1 from 1 to 5\"\u001b[39m,\n",
       "    \u001b[32m\"move 2 from 6 to 5\"\u001b[39m,\n",
       "    \u001b[32m\"move 18 from 9 to 1\"\u001b[39m,\n",
       "    \u001b[32m\"move 6 from 8 to 1\"\u001b[39m,\n",
       "    \u001b[32m\"move 1 from 8 to 7\"\u001b[39m,\n",
       "    \u001b[32m\"move 5 from 7 to 2\"\u001b[39m,\n",
       "    \u001b[32m\"move 6 from 1 to 2\"\u001b[39m,\n",
       "    \u001b[32m\"move 7 from 9 to 6\"\u001b[39m,\n",
       "    \u001b[32m\"move 6 from 1 to 3\"\u001b[39m,\n",
       "    \u001b[32m\"move 5 from 3 to 9\"\u001b[39m,\n",
       "    \u001b[32m\"move 3 from 9 to 1\"\u001b[39m,\n",
       "    \u001b[32m\"move 1 from 7 to 9\"\u001b[39m,\n",
       "    \u001b[32m\"move 4 from 2 to 1\"\u001b[39m,\n",
       "..."
      ]
     },
     "execution_count": 2,
     "metadata": {},
     "output_type": "execute_result"
    }
   ],
   "source": [
    "val splitInput = rawData.span(_ != \"\")"
   ]
  },
  {
   "cell_type": "code",
   "execution_count": 3,
   "id": "c7d8635d",
   "metadata": {},
   "outputs": [
    {
     "data": {
      "text/plain": [
       "\u001b[36mstartStrings\u001b[39m: \u001b[32mList\u001b[39m[\u001b[32mString\u001b[39m] = \u001b[33mList\u001b[39m(\n",
       "  \u001b[32m\"    [P]                 [C] [C]    \"\u001b[39m,\n",
       "  \u001b[32m\"    [W]         [B]     [G] [V] [V]\"\u001b[39m,\n",
       "  \u001b[32m\"    [V]         [T] [Z] [J] [T] [S]\"\u001b[39m,\n",
       "  \u001b[32m\"    [D] [L]     [Q] [F] [Z] [W] [R]\"\u001b[39m,\n",
       "  \u001b[32m\"    [C] [N] [R] [H] [L] [Q] [F] [G]\"\u001b[39m,\n",
       "  \u001b[32m\"[F] [M] [Z] [H] [G] [W] [L] [R] [H]\"\u001b[39m,\n",
       "  \u001b[32m\"[R] [H] [M] [C] [P] [C] [V] [N] [W]\"\u001b[39m,\n",
       "  \u001b[32m\"[W] [T] [P] [J] [C] [G] [W] [P] [J]\"\u001b[39m\n",
       ")\n",
       "\u001b[36mmoveStrings\u001b[39m: \u001b[32mList\u001b[39m[\u001b[32mString\u001b[39m] = \u001b[33mList\u001b[39m(\n",
       "  \u001b[32m\"move 2 from 4 to 9\"\u001b[39m,\n",
       "  \u001b[32m\"move 5 from 2 to 9\"\u001b[39m,\n",
       "  \u001b[32m\"move 1 from 5 to 1\"\u001b[39m,\n",
       "  \u001b[32m\"move 3 from 1 to 4\"\u001b[39m,\n",
       "  \u001b[32m\"move 2 from 4 to 6\"\u001b[39m,\n",
       "  \u001b[32m\"move 7 from 6 to 9\"\u001b[39m,\n",
       "  \u001b[32m\"move 5 from 3 to 9\"\u001b[39m,\n",
       "  \u001b[32m\"move 1 from 8 to 6\"\u001b[39m,\n",
       "  \u001b[32m\"move 3 from 2 to 3\"\u001b[39m,\n",
       "  \u001b[32m\"move 12 from 9 to 3\"\u001b[39m,\n",
       "  \u001b[32m\"move 4 from 9 to 7\"\u001b[39m,\n",
       "  \u001b[32m\"move 15 from 3 to 9\"\u001b[39m,\n",
       "  \u001b[32m\"move 1 from 1 to 5\"\u001b[39m,\n",
       "  \u001b[32m\"move 2 from 6 to 5\"\u001b[39m,\n",
       "  \u001b[32m\"move 18 from 9 to 1\"\u001b[39m,\n",
       "  \u001b[32m\"move 6 from 8 to 1\"\u001b[39m,\n",
       "  \u001b[32m\"move 1 from 8 to 7\"\u001b[39m,\n",
       "  \u001b[32m\"move 5 from 7 to 2\"\u001b[39m,\n",
       "  \u001b[32m\"move 6 from 1 to 2\"\u001b[39m,\n",
       "  \u001b[32m\"move 7 from 9 to 6\"\u001b[39m,\n",
       "  \u001b[32m\"move 6 from 1 to 3\"\u001b[39m,\n",
       "  \u001b[32m\"move 5 from 3 to 9\"\u001b[39m,\n",
       "  \u001b[32m\"move 3 from 9 to 1\"\u001b[39m,\n",
       "  \u001b[32m\"move 1 from 7 to 9\"\u001b[39m,\n",
       "  \u001b[32m\"move 4 from 2 to 1\"\u001b[39m,\n",
       "  \u001b[32m\"move 5 from 6 to 3\"\u001b[39m,\n",
       "  \u001b[32m\"move 1 from 3 to 4\"\u001b[39m,\n",
       "  \u001b[32m\"move 1 from 5 to 9\"\u001b[39m,\n",
       "  \u001b[32m\"move 2 from 9 to 6\"\u001b[39m,\n",
       "  \u001b[32m\"move 5 from 5 to 9\"\u001b[39m,\n",
       "  \u001b[32m\"move 10 from 1 to 8\"\u001b[39m,\n",
       "  \u001b[32m\"move 4 from 3 to 8\"\u001b[39m,\n",
       "  \u001b[32m\"move 3 from 4 to 9\"\u001b[39m,\n",
       "  \u001b[32m\"move 4 from 6 to 9\"\u001b[39m,\n",
       "  \u001b[32m\"move 14 from 8 to 6\"\u001b[39m,\n",
       "  \u001b[32m\"move 1 from 3 to 8\"\u001b[39m,\n",
       "  \u001b[32m\"move 14 from 9 to 4\"\u001b[39m,\n",
       "  \u001b[32m\"move 6 from 1 to 6\"\u001b[39m,\n",
       "...\n",
       "\u001b[36mmaxColumn\u001b[39m: \u001b[32mInt\u001b[39m = \u001b[32m9\u001b[39m"
      ]
     },
     "execution_count": 3,
     "metadata": {},
     "output_type": "execute_result"
    }
   ],
   "source": [
    "val startStrings = splitInput._1.dropRight(1)\n",
    "val moveStrings = splitInput._2.drop(1)\n",
    "val maxColumn = splitInput._1.last.strip.last.toString.toInt"
   ]
  },
  {
   "cell_type": "code",
   "execution_count": 4,
   "id": "ba3b88df",
   "metadata": {},
   "outputs": [
    {
     "data": {
      "text/plain": [
       "\u001b[36moffset\u001b[39m: \u001b[32mInt\u001b[39m = \u001b[32m4\u001b[39m\n",
       "\u001b[36mindexes\u001b[39m: \u001b[32mRange\u001b[39m = \u001b[33mRange\u001b[39m(\u001b[32m1\u001b[39m, \u001b[32m5\u001b[39m, \u001b[32m9\u001b[39m, \u001b[32m13\u001b[39m, \u001b[32m17\u001b[39m, \u001b[32m21\u001b[39m, \u001b[32m25\u001b[39m, \u001b[32m29\u001b[39m, \u001b[32m33\u001b[39m)\n",
       "\u001b[36mcolumns\u001b[39m: \u001b[32mRange\u001b[39m.\u001b[32mInclusive\u001b[39m = \u001b[33mRange\u001b[39m(\u001b[32m1\u001b[39m, \u001b[32m2\u001b[39m, \u001b[32m3\u001b[39m, \u001b[32m4\u001b[39m, \u001b[32m5\u001b[39m, \u001b[32m6\u001b[39m, \u001b[32m7\u001b[39m, \u001b[32m8\u001b[39m, \u001b[32m9\u001b[39m)"
      ]
     },
     "execution_count": 4,
     "metadata": {},
     "output_type": "execute_result"
    }
   ],
   "source": [
    "val offset = 4\n",
    "val indexes = 1 to maxColumn * offset - offset + 1 by offset\n",
    "\n",
    "val columns = 1 to maxColumn"
   ]
  },
  {
   "cell_type": "code",
   "execution_count": 5,
   "id": "ecf8388a",
   "metadata": {},
   "outputs": [
    {
     "data": {
      "text/plain": [
       "\u001b[36mstartingBoard\u001b[39m: \u001b[32mArray\u001b[39m[\u001b[32mList\u001b[39m[\u001b[32mChar\u001b[39m]] = \u001b[33mArray\u001b[39m(\n",
       "  \u001b[33mList\u001b[39m(\u001b[32m'W'\u001b[39m, \u001b[32m'R'\u001b[39m, \u001b[32m'F'\u001b[39m),\n",
       "  \u001b[33mList\u001b[39m(\u001b[32m'T'\u001b[39m, \u001b[32m'H'\u001b[39m, \u001b[32m'M'\u001b[39m, \u001b[32m'C'\u001b[39m, \u001b[32m'D'\u001b[39m, \u001b[32m'V'\u001b[39m, \u001b[32m'W'\u001b[39m, \u001b[32m'P'\u001b[39m),\n",
       "  \u001b[33mList\u001b[39m(\u001b[32m'P'\u001b[39m, \u001b[32m'M'\u001b[39m, \u001b[32m'Z'\u001b[39m, \u001b[32m'N'\u001b[39m, \u001b[32m'L'\u001b[39m),\n",
       "  \u001b[33mList\u001b[39m(\u001b[32m'J'\u001b[39m, \u001b[32m'C'\u001b[39m, \u001b[32m'H'\u001b[39m, \u001b[32m'R'\u001b[39m),\n",
       "  \u001b[33mList\u001b[39m(\u001b[32m'C'\u001b[39m, \u001b[32m'P'\u001b[39m, \u001b[32m'G'\u001b[39m, \u001b[32m'H'\u001b[39m, \u001b[32m'Q'\u001b[39m, \u001b[32m'T'\u001b[39m, \u001b[32m'B'\u001b[39m),\n",
       "  \u001b[33mList\u001b[39m(\u001b[32m'G'\u001b[39m, \u001b[32m'C'\u001b[39m, \u001b[32m'W'\u001b[39m, \u001b[32m'L'\u001b[39m, \u001b[32m'F'\u001b[39m, \u001b[32m'Z'\u001b[39m),\n",
       "  \u001b[33mList\u001b[39m(\u001b[32m'W'\u001b[39m, \u001b[32m'V'\u001b[39m, \u001b[32m'L'\u001b[39m, \u001b[32m'Q'\u001b[39m, \u001b[32m'Z'\u001b[39m, \u001b[32m'J'\u001b[39m, \u001b[32m'G'\u001b[39m, \u001b[32m'C'\u001b[39m),\n",
       "  \u001b[33mList\u001b[39m(\u001b[32m'P'\u001b[39m, \u001b[32m'N'\u001b[39m, \u001b[32m'R'\u001b[39m, \u001b[32m'F'\u001b[39m, \u001b[32m'W'\u001b[39m, \u001b[32m'T'\u001b[39m, \u001b[32m'V'\u001b[39m, \u001b[32m'C'\u001b[39m),\n",
       "  \u001b[33mList\u001b[39m(\u001b[32m'J'\u001b[39m, \u001b[32m'W'\u001b[39m, \u001b[32m'H'\u001b[39m, \u001b[32m'G'\u001b[39m, \u001b[32m'R'\u001b[39m, \u001b[32m'S'\u001b[39m, \u001b[32m'V'\u001b[39m)\n",
       ")\n",
       "defined \u001b[32mfunction\u001b[39m \u001b[36maddValue\u001b[39m\n",
       "\u001b[36mres4_3\u001b[39m: \u001b[32mArray\u001b[39m[\u001b[32mList\u001b[39m[\u001b[32mChar\u001b[39m]] = \u001b[33mArray\u001b[39m(\n",
       "  \u001b[33mList\u001b[39m(\u001b[32m'W'\u001b[39m, \u001b[32m'R'\u001b[39m, \u001b[32m'F'\u001b[39m),\n",
       "  \u001b[33mList\u001b[39m(\u001b[32m'T'\u001b[39m, \u001b[32m'H'\u001b[39m, \u001b[32m'M'\u001b[39m, \u001b[32m'C'\u001b[39m, \u001b[32m'D'\u001b[39m, \u001b[32m'V'\u001b[39m, \u001b[32m'W'\u001b[39m, \u001b[32m'P'\u001b[39m),\n",
       "  \u001b[33mList\u001b[39m(\u001b[32m'P'\u001b[39m, \u001b[32m'M'\u001b[39m, \u001b[32m'Z'\u001b[39m, \u001b[32m'N'\u001b[39m, \u001b[32m'L'\u001b[39m),\n",
       "  \u001b[33mList\u001b[39m(\u001b[32m'J'\u001b[39m, \u001b[32m'C'\u001b[39m, \u001b[32m'H'\u001b[39m, \u001b[32m'R'\u001b[39m),\n",
       "  \u001b[33mList\u001b[39m(\u001b[32m'C'\u001b[39m, \u001b[32m'P'\u001b[39m, \u001b[32m'G'\u001b[39m, \u001b[32m'H'\u001b[39m, \u001b[32m'Q'\u001b[39m, \u001b[32m'T'\u001b[39m, \u001b[32m'B'\u001b[39m),\n",
       "  \u001b[33mList\u001b[39m(\u001b[32m'G'\u001b[39m, \u001b[32m'C'\u001b[39m, \u001b[32m'W'\u001b[39m, \u001b[32m'L'\u001b[39m, \u001b[32m'F'\u001b[39m, \u001b[32m'Z'\u001b[39m),\n",
       "  \u001b[33mList\u001b[39m(\u001b[32m'W'\u001b[39m, \u001b[32m'V'\u001b[39m, \u001b[32m'L'\u001b[39m, \u001b[32m'Q'\u001b[39m, \u001b[32m'Z'\u001b[39m, \u001b[32m'J'\u001b[39m, \u001b[32m'G'\u001b[39m, \u001b[32m'C'\u001b[39m),\n",
       "  \u001b[33mList\u001b[39m(\u001b[32m'P'\u001b[39m, \u001b[32m'N'\u001b[39m, \u001b[32m'R'\u001b[39m, \u001b[32m'F'\u001b[39m, \u001b[32m'W'\u001b[39m, \u001b[32m'T'\u001b[39m, \u001b[32m'V'\u001b[39m, \u001b[32m'C'\u001b[39m),\n",
       "  \u001b[33mList\u001b[39m(\u001b[32m'J'\u001b[39m, \u001b[32m'W'\u001b[39m, \u001b[32m'H'\u001b[39m, \u001b[32m'G'\u001b[39m, \u001b[32m'R'\u001b[39m, \u001b[32m'S'\u001b[39m, \u001b[32m'V'\u001b[39m)\n",
       ")"
      ]
     },
     "execution_count": 5,
     "metadata": {},
     "output_type": "execute_result"
    }
   ],
   "source": [
    "val startingBoard = columns.toArray.map(_ => List.empty[Char])\n",
    "\n",
    "def addValue(value: Char, index: Int): Unit = if (value != ' ') startingBoard(index) = startingBoard(index) :+ value else ()\n",
    "\n",
    "startStrings.reverse.foreach(\n",
    "    row => \n",
    "        indexes.map(x => row(x)).zipWithIndex.foreach{\n",
    "            case (value, index) => addValue(value, index)\n",
    "        }\n",
    ")\n",
    "\n",
    "startingBoard\n",
    "\n"
   ]
  },
  {
   "cell_type": "code",
   "execution_count": 6,
   "id": "9b5b0896",
   "metadata": {},
   "outputs": [
    {
     "data": {
      "text/plain": [
       "\u001b[36mmoveRegex\u001b[39m: \u001b[32mscala\u001b[39m.\u001b[32mutil\u001b[39m.\u001b[32mmatching\u001b[39m.\u001b[32mRegex\u001b[39m = ^move (\\d*) from (\\d) to (\\d)$\n",
       "defined \u001b[32mclass\u001b[39m \u001b[36mMove\u001b[39m\n",
       "\u001b[36mmoves\u001b[39m: \u001b[32mList\u001b[39m[\u001b[32mMove\u001b[39m] = \u001b[33mList\u001b[39m(\n",
       "  \u001b[33mMove\u001b[39m(number = \u001b[32m2\u001b[39m, from = \u001b[32m3\u001b[39m, to = \u001b[32m8\u001b[39m),\n",
       "  \u001b[33mMove\u001b[39m(number = \u001b[32m5\u001b[39m, from = \u001b[32m1\u001b[39m, to = \u001b[32m8\u001b[39m),\n",
       "  \u001b[33mMove\u001b[39m(number = \u001b[32m1\u001b[39m, from = \u001b[32m4\u001b[39m, to = \u001b[32m0\u001b[39m),\n",
       "  \u001b[33mMove\u001b[39m(number = \u001b[32m3\u001b[39m, from = \u001b[32m0\u001b[39m, to = \u001b[32m3\u001b[39m),\n",
       "  \u001b[33mMove\u001b[39m(number = \u001b[32m2\u001b[39m, from = \u001b[32m3\u001b[39m, to = \u001b[32m5\u001b[39m),\n",
       "  \u001b[33mMove\u001b[39m(number = \u001b[32m7\u001b[39m, from = \u001b[32m5\u001b[39m, to = \u001b[32m8\u001b[39m),\n",
       "  \u001b[33mMove\u001b[39m(number = \u001b[32m5\u001b[39m, from = \u001b[32m2\u001b[39m, to = \u001b[32m8\u001b[39m),\n",
       "  \u001b[33mMove\u001b[39m(number = \u001b[32m1\u001b[39m, from = \u001b[32m7\u001b[39m, to = \u001b[32m5\u001b[39m),\n",
       "  \u001b[33mMove\u001b[39m(number = \u001b[32m3\u001b[39m, from = \u001b[32m1\u001b[39m, to = \u001b[32m2\u001b[39m),\n",
       "  \u001b[33mMove\u001b[39m(number = \u001b[32m12\u001b[39m, from = \u001b[32m8\u001b[39m, to = \u001b[32m2\u001b[39m),\n",
       "  \u001b[33mMove\u001b[39m(number = \u001b[32m4\u001b[39m, from = \u001b[32m8\u001b[39m, to = \u001b[32m6\u001b[39m),\n",
       "  \u001b[33mMove\u001b[39m(number = \u001b[32m15\u001b[39m, from = \u001b[32m2\u001b[39m, to = \u001b[32m8\u001b[39m),\n",
       "  \u001b[33mMove\u001b[39m(number = \u001b[32m1\u001b[39m, from = \u001b[32m0\u001b[39m, to = \u001b[32m4\u001b[39m),\n",
       "  \u001b[33mMove\u001b[39m(number = \u001b[32m2\u001b[39m, from = \u001b[32m5\u001b[39m, to = \u001b[32m4\u001b[39m),\n",
       "  \u001b[33mMove\u001b[39m(number = \u001b[32m18\u001b[39m, from = \u001b[32m8\u001b[39m, to = \u001b[32m0\u001b[39m),\n",
       "  \u001b[33mMove\u001b[39m(number = \u001b[32m6\u001b[39m, from = \u001b[32m7\u001b[39m, to = \u001b[32m0\u001b[39m),\n",
       "  \u001b[33mMove\u001b[39m(number = \u001b[32m1\u001b[39m, from = \u001b[32m7\u001b[39m, to = \u001b[32m6\u001b[39m),\n",
       "  \u001b[33mMove\u001b[39m(number = \u001b[32m5\u001b[39m, from = \u001b[32m6\u001b[39m, to = \u001b[32m1\u001b[39m),\n",
       "  \u001b[33mMove\u001b[39m(number = \u001b[32m6\u001b[39m, from = \u001b[32m0\u001b[39m, to = \u001b[32m1\u001b[39m),\n",
       "  \u001b[33mMove\u001b[39m(number = \u001b[32m7\u001b[39m, from = \u001b[32m8\u001b[39m, to = \u001b[32m5\u001b[39m),\n",
       "  \u001b[33mMove\u001b[39m(number = \u001b[32m6\u001b[39m, from = \u001b[32m0\u001b[39m, to = \u001b[32m2\u001b[39m),\n",
       "  \u001b[33mMove\u001b[39m(number = \u001b[32m5\u001b[39m, from = \u001b[32m2\u001b[39m, to = \u001b[32m8\u001b[39m),\n",
       "  \u001b[33mMove\u001b[39m(number = \u001b[32m3\u001b[39m, from = \u001b[32m8\u001b[39m, to = \u001b[32m0\u001b[39m),\n",
       "  \u001b[33mMove\u001b[39m(number = \u001b[32m1\u001b[39m, from = \u001b[32m6\u001b[39m, to = \u001b[32m8\u001b[39m),\n",
       "  \u001b[33mMove\u001b[39m(number = \u001b[32m4\u001b[39m, from = \u001b[32m1\u001b[39m, to = \u001b[32m0\u001b[39m),\n",
       "  \u001b[33mMove\u001b[39m(number = \u001b[32m5\u001b[39m, from = \u001b[32m5\u001b[39m, to = \u001b[32m2\u001b[39m),\n",
       "  \u001b[33mMove\u001b[39m(number = \u001b[32m1\u001b[39m, from = \u001b[32m2\u001b[39m, to = \u001b[32m3\u001b[39m),\n",
       "  \u001b[33mMove\u001b[39m(number = \u001b[32m1\u001b[39m, from = \u001b[32m4\u001b[39m, to = \u001b[32m8\u001b[39m),\n",
       "  \u001b[33mMove\u001b[39m(number = \u001b[32m2\u001b[39m, from = \u001b[32m8\u001b[39m, to = \u001b[32m5\u001b[39m),\n",
       "  \u001b[33mMove\u001b[39m(number = \u001b[32m5\u001b[39m, from = \u001b[32m4\u001b[39m, to = \u001b[32m8\u001b[39m),\n",
       "  \u001b[33mMove\u001b[39m(number = \u001b[32m10\u001b[39m, from = \u001b[32m0\u001b[39m, to = \u001b[32m7\u001b[39m),\n",
       "  \u001b[33mMove\u001b[39m(number = \u001b[32m4\u001b[39m, from = \u001b[32m2\u001b[39m, to = \u001b[32m7\u001b[39m),\n",
       "  \u001b[33mMove\u001b[39m(number = \u001b[32m3\u001b[39m, from = \u001b[32m3\u001b[39m, to = \u001b[32m8\u001b[39m),\n",
       "  \u001b[33mMove\u001b[39m(number = \u001b[32m4\u001b[39m, from = \u001b[32m5\u001b[39m, to = \u001b[32m8\u001b[39m),\n",
       "  \u001b[33mMove\u001b[39m(number = \u001b[32m14\u001b[39m, from = \u001b[32m7\u001b[39m, to = \u001b[32m5\u001b[39m),\n",
       "  \u001b[33mMove\u001b[39m(number = \u001b[32m1\u001b[39m, from = \u001b[32m2\u001b[39m, to = \u001b[32m7\u001b[39m),\n",
       "  \u001b[33mMove\u001b[39m(number = \u001b[32m14\u001b[39m, from = \u001b[32m8\u001b[39m, to = \u001b[32m3\u001b[39m),\n",
       "  \u001b[33mMove\u001b[39m(number = \u001b[32m6\u001b[39m, from = \u001b[32m0\u001b[39m, to = \u001b[32m5\u001b[39m),\n",
       "..."
      ]
     },
     "execution_count": 6,
     "metadata": {},
     "output_type": "execute_result"
    }
   ],
   "source": [
    "val moveRegex = \"\"\"^move (\\d*) from (\\d) to (\\d)$\"\"\".r\n",
    "\n",
    "case class Move(number: Int, from: Int, to: Int)\n",
    "\n",
    "val moves = moveStrings.map(_ match {\n",
    "    case moveRegex(number, from, to) => Move(number.toInt, from.toInt - 1, to.toInt - 1)\n",
    "})"
   ]
  },
  {
   "cell_type": "code",
   "execution_count": 7,
   "id": "f5224b11",
   "metadata": {},
   "outputs": [
    {
     "data": {
      "text/plain": [
       "defined \u001b[32mfunction\u001b[39m \u001b[36mexecuteMove\u001b[39m"
      ]
     },
     "execution_count": 7,
     "metadata": {},
     "output_type": "execute_result"
    }
   ],
   "source": [
    "def executeMove(board: Array[List[Char]], reverse: Boolean)(move: Move) = {\n",
    "    val toMove = board(move.from).takeRight(move.number)\n",
    "    val toMoveReversed = if (reverse) toMove.reverse else toMove\n",
    "    board(move.from) = board(move.from).dropRight(move.number)\n",
    "    board(move.to) = board(move.to) :++ toMoveReversed\n",
    "}"
   ]
  },
  {
   "cell_type": "code",
   "execution_count": 8,
   "id": "6667a1dc",
   "metadata": {},
   "outputs": [
    {
     "data": {
      "text/plain": [
       "\u001b[36mboard1\u001b[39m: \u001b[32mArray\u001b[39m[\u001b[32mList\u001b[39m[\u001b[32mChar\u001b[39m]] = \u001b[33mArray\u001b[39m(\n",
       "  \u001b[33mList\u001b[39m(\u001b[32m'F'\u001b[39m, \u001b[32m'P'\u001b[39m, \u001b[32m'G'\u001b[39m, \u001b[32m'C'\u001b[39m),\n",
       "  \u001b[33mList\u001b[39m(\n",
       "    \u001b[32m'Z'\u001b[39m,\n",
       "    \u001b[32m'H'\u001b[39m,\n",
       "    \u001b[32m'Z'\u001b[39m,\n",
       "    \u001b[32m'H'\u001b[39m,\n",
       "    \u001b[32m'J'\u001b[39m,\n",
       "    \u001b[32m'T'\u001b[39m,\n",
       "    \u001b[32m'P'\u001b[39m,\n",
       "    \u001b[32m'G'\u001b[39m,\n",
       "    \u001b[32m'R'\u001b[39m,\n",
       "    \u001b[32m'D'\u001b[39m,\n",
       "    \u001b[32m'L'\u001b[39m,\n",
       "    \u001b[32m'L'\u001b[39m,\n",
       "    \u001b[32m'G'\u001b[39m,\n",
       "    \u001b[32m'W'\u001b[39m,\n",
       "    \u001b[32m'S'\u001b[39m,\n",
       "    \u001b[32m'B'\u001b[39m,\n",
       "    \u001b[32m'V'\u001b[39m\n",
       "  ),\n",
       "  \u001b[33mList\u001b[39m(\u001b[32m'M'\u001b[39m, \u001b[32m'R'\u001b[39m, \u001b[32m'V'\u001b[39m, \u001b[32m'V'\u001b[39m, \u001b[32m'C'\u001b[39m),\n",
       "  \u001b[33mList\u001b[39m(\u001b[32m'R'\u001b[39m, \u001b[32m'W'\u001b[39m),\n",
       "  \u001b[33mList\u001b[39m(\u001b[32m'C'\u001b[39m, \u001b[32m'C'\u001b[39m),\n",
       "  \u001b[33mList\u001b[39m(\u001b[32m'P'\u001b[39m, \u001b[32m'R'\u001b[39m),\n",
       "  \u001b[33mList\u001b[39m(\u001b[32m'T'\u001b[39m),\n",
       "  \u001b[33mList\u001b[39m(\u001b[32m'M'\u001b[39m, \u001b[32m'W'\u001b[39m, \u001b[32m'G'\u001b[39m, \u001b[32m'V'\u001b[39m),\n",
       "  \u001b[33mList\u001b[39m(\n",
       "    \u001b[32m'H'\u001b[39m,\n",
       "    \u001b[32m'C'\u001b[39m,\n",
       "    \u001b[32m'J'\u001b[39m,\n",
       "    \u001b[32m'H'\u001b[39m,\n",
       "    \u001b[32m'N'\u001b[39m,\n",
       "    \u001b[32m'W'\u001b[39m,\n",
       "    \u001b[32m'Z'\u001b[39m,\n",
       "    \u001b[32m'J'\u001b[39m,\n",
       "    \u001b[32m'F'\u001b[39m,\n",
       "    \u001b[32m'P'\u001b[39m,\n",
       "    \u001b[32m'Q'\u001b[39m,\n",
       "..."
      ]
     },
     "execution_count": 8,
     "metadata": {},
     "output_type": "execute_result"
    }
   ],
   "source": [
    "val board1 = startingBoard.clone\n",
    "\n",
    "\n",
    "moves.foreach(executeMove(board1, true))"
   ]
  },
  {
   "cell_type": "code",
   "execution_count": 9,
   "id": "7be9415c",
   "metadata": {},
   "outputs": [
    {
     "data": {
      "text/plain": [
       "\u001b[36mtop\u001b[39m: \u001b[32mString\u001b[39m = \u001b[32m\"CVCWCRTVQ\"\u001b[39m"
      ]
     },
     "execution_count": 9,
     "metadata": {},
     "output_type": "execute_result"
    }
   ],
   "source": [
    "val top = board1.map(_.last).toList.mkString"
   ]
  },
  {
   "cell_type": "markdown",
   "id": "10edbb48",
   "metadata": {},
   "source": [
    "--- Part Two ---\n",
    "\n",
    "As you watch the crane operator expertly rearrange the crates, you notice the process isn't following your prediction.\n",
    "\n",
    "Some mud was covering the writing on the side of the crane, and you quickly wipe it away. The crane isn't a CrateMover 9000 - it's a CrateMover 9001.\n",
    "\n",
    "The CrateMover 9001 is notable for many new and exciting features: air conditioning, leather seats, an extra cup holder, and the ability to pick up and move multiple crates at once.\n",
    "\n",
    "Again considering the example above, the crates begin in the same configuration:\n",
    "\n",
    "    [D]    \n",
    "[N] [C]    \n",
    "[Z] [M] [P]\n",
    " 1   2   3 \n",
    "\n",
    "Moving a single crate from stack 2 to stack 1 behaves the same as before:\n",
    "\n",
    "[D]        \n",
    "[N] [C]    \n",
    "[Z] [M] [P]\n",
    " 1   2   3 \n",
    "\n",
    "However, the action of moving three crates from stack 1 to stack 3 means that those three moved crates stay in the same order, resulting in this new configuration:\n",
    "\n",
    "        [D]\n",
    "        [N]\n",
    "    [C] [Z]\n",
    "    [M] [P]\n",
    " 1   2   3\n",
    "\n",
    "Next, as both crates are moved from stack 2 to stack 1, they retain their order as well:\n",
    "\n",
    "        [D]\n",
    "        [N]\n",
    "[C]     [Z]\n",
    "[M]     [P]\n",
    " 1   2   3\n",
    "\n",
    "Finally, a single crate is still moved from stack 1 to stack 2, but now it's crate C that gets moved:\n",
    "\n",
    "        [D]\n",
    "        [N]\n",
    "        [Z]\n",
    "[M] [C] [P]\n",
    " 1   2   3\n",
    "\n",
    "In this example, the CrateMover 9001 has put the crates in a totally different order: MCD.\n",
    "\n",
    "Before the rearrangement process finishes, update your simulation so that the Elves know where they should stand to be ready to unload the final supplies. After the rearrangement procedure completes, what crate ends up on top of each stack?\n"
   ]
  },
  {
   "cell_type": "code",
   "execution_count": 10,
   "id": "8c5f749f",
   "metadata": {},
   "outputs": [
    {
     "data": {
      "text/plain": [
       "\u001b[36mboard2\u001b[39m: \u001b[32mArray\u001b[39m[\u001b[32mList\u001b[39m[\u001b[32mChar\u001b[39m]] = \u001b[33mArray\u001b[39m(\n",
       "  \u001b[33mList\u001b[39m(\u001b[32m'R'\u001b[39m, \u001b[32m'J'\u001b[39m, \u001b[32m'H'\u001b[39m, \u001b[32m'C'\u001b[39m),\n",
       "  \u001b[33mList\u001b[39m(\n",
       "    \u001b[32m'Z'\u001b[39m,\n",
       "    \u001b[32m'G'\u001b[39m,\n",
       "    \u001b[32m'T'\u001b[39m,\n",
       "    \u001b[32m'J'\u001b[39m,\n",
       "    \u001b[32m'P'\u001b[39m,\n",
       "    \u001b[32m'F'\u001b[39m,\n",
       "    \u001b[32m'C'\u001b[39m,\n",
       "    \u001b[32m'W'\u001b[39m,\n",
       "    \u001b[32m'R'\u001b[39m,\n",
       "    \u001b[32m'G'\u001b[39m,\n",
       "    \u001b[32m'W'\u001b[39m,\n",
       "    \u001b[32m'D'\u001b[39m,\n",
       "    \u001b[32m'L'\u001b[39m,\n",
       "    \u001b[32m'B'\u001b[39m,\n",
       "    \u001b[32m'T'\u001b[39m,\n",
       "    \u001b[32m'H'\u001b[39m,\n",
       "    \u001b[32m'N'\u001b[39m\n",
       "  ),\n",
       "  \u001b[33mList\u001b[39m(\u001b[32m'F'\u001b[39m, \u001b[32m'C'\u001b[39m, \u001b[32m'W'\u001b[39m, \u001b[32m'G'\u001b[39m, \u001b[32m'S'\u001b[39m),\n",
       "  \u001b[33mList\u001b[39m(\u001b[32m'M'\u001b[39m, \u001b[32m'C'\u001b[39m),\n",
       "  \u001b[33mList\u001b[39m(\u001b[32m'Z'\u001b[39m, \u001b[32m'Z'\u001b[39m),\n",
       "  \u001b[33mList\u001b[39m(\u001b[32m'P'\u001b[39m, \u001b[32m'W'\u001b[39m),\n",
       "  \u001b[33mList\u001b[39m(\u001b[32m'L'\u001b[39m),\n",
       "  \u001b[33mList\u001b[39m(\u001b[32m'J'\u001b[39m, \u001b[32m'W'\u001b[39m, \u001b[32m'H'\u001b[39m, \u001b[32m'V'\u001b[39m),\n",
       "  \u001b[33mList\u001b[39m(\n",
       "    \u001b[32m'V'\u001b[39m,\n",
       "    \u001b[32m'C'\u001b[39m,\n",
       "    \u001b[32m'C'\u001b[39m,\n",
       "    \u001b[32m'M'\u001b[39m,\n",
       "    \u001b[32m'V'\u001b[39m,\n",
       "    \u001b[32m'W'\u001b[39m,\n",
       "    \u001b[32m'R'\u001b[39m,\n",
       "    \u001b[32m'R'\u001b[39m,\n",
       "    \u001b[32m'V'\u001b[39m,\n",
       "    \u001b[32m'G'\u001b[39m,\n",
       "    \u001b[32m'P'\u001b[39m,\n",
       "..."
      ]
     },
     "execution_count": 10,
     "metadata": {},
     "output_type": "execute_result"
    }
   ],
   "source": [
    "val board2 = startingBoard.clone\n",
    "\n",
    "moves.foreach(executeMove(board2, false))"
   ]
  },
  {
   "cell_type": "code",
   "execution_count": 11,
   "id": "fd8d504e",
   "metadata": {},
   "outputs": [
    {
     "data": {
      "text/plain": [
       "\u001b[36mtop2\u001b[39m: \u001b[32mString\u001b[39m = \u001b[32m\"CNSCZWLVT\"\u001b[39m"
      ]
     },
     "execution_count": 11,
     "metadata": {},
     "output_type": "execute_result"
    }
   ],
   "source": [
    "val top2 = board2.map(_.last).toList.mkString"
   ]
  }
 ],
 "metadata": {
  "kernelspec": {
   "display_name": "Scala",
   "language": "scala",
   "name": "scala"
  },
  "language_info": {
   "codemirror_mode": "text/x-scala",
   "file_extension": ".sc",
   "mimetype": "text/x-scala",
   "name": "scala",
   "nbconvert_exporter": "script",
   "version": "2.13.10"
  }
 },
 "nbformat": 4,
 "nbformat_minor": 5
}
