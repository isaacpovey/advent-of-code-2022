{
 "cells": [
  {
   "cell_type": "markdown",
   "metadata": {},
   "source": [
    "--- Day 2: Rock Paper Scissors ---\n",
    "\n",
    "The Elves begin to set up camp on the beach. To decide whose tent gets to be closest to the snack storage, a giant Rock Paper Scissors tournament is already in progress.\n",
    "\n",
    "Rock Paper Scissors is a game between two players. Each game contains many rounds; in each round, the players each simultaneously choose one of Rock, Paper, or Scissors using a hand shape. Then, a winner for that round is selected: Rock defeats Scissors, Scissors defeats Paper, and Paper defeats Rock. If both players choose the same shape, the round instead ends in a draw.\n",
    "\n",
    "Appreciative of your help yesterday, one Elf gives you an encrypted strategy guide (your puzzle input) that they say will be sure to help you win. \"The first column is what your opponent is going to play: A for Rock, B for Paper, and C for Scissors. The second column--\" Suddenly, the Elf is called away to help with someone's tent.\n",
    "\n",
    "The second column, you reason, must be what you should play in response: X for Rock, Y for Paper, and Z for Scissors. Winning every time would be suspicious, so the responses must have been carefully chosen.\n",
    "\n",
    "The winner of the whole tournament is the player with the highest score. Your total score is the sum of your scores for each round. The score for a single round is the score for the shape you selected (1 for Rock, 2 for Paper, and 3 for Scissors) plus the score for the outcome of the round (0 if you lost, 3 if the round was a draw, and 6 if you won).\n",
    "\n",
    "Since you can't be sure if the Elf is trying to help you or trick you, you should calculate the score you would get if you were to follow the strategy guide.\n",
    "\n",
    "For example, suppose you were given the following strategy guide:\n",
    "\n",
    "A Y\n",
    "B X\n",
    "C Z\n",
    "\n",
    "This strategy guide predicts and recommends the following:\n",
    "\n",
    "    In the first round, your opponent will choose Rock (A), and you should choose Paper (Y). This ends in a win for you with a score of 8 (2 because you chose Paper + 6 because you won).\n",
    "    In the second round, your opponent will choose Paper (B), and you should choose Rock (X). This ends in a loss for you with a score of 1 (1 + 0).\n",
    "    The third round is a draw with both players choosing Scissors, giving you a score of 3 + 3 = 6.\n",
    "\n",
    "In this example, if you were to follow the strategy guide, you would get a total score of 15 (8 + 1 + 6).\n",
    "\n",
    "What would your total score be if everything goes exactly according to your strategy guide?\n"
   ]
  },
  {
   "cell_type": "code",
   "execution_count": 12,
   "metadata": {},
   "outputs": [
    {
     "data": {
      "text/plain": [
       "\u001b[32mimport \u001b[39m\u001b[36mscala.io.Source\n",
       "\n",
       "\u001b[39m\n",
       "\u001b[36mfilename\u001b[39m: \u001b[32mString\u001b[39m = \u001b[32m\"day2input\"\u001b[39m\n",
       "\u001b[36mrawData\u001b[39m: \u001b[32mList\u001b[39m[\u001b[32mString\u001b[39m] = \u001b[33mList\u001b[39m(\n",
       "  \u001b[32m\"B X\"\u001b[39m,\n",
       "  \u001b[32m\"B Y\"\u001b[39m,\n",
       "  \u001b[32m\"A Y\"\u001b[39m,\n",
       "  \u001b[32m\"B Y\"\u001b[39m,\n",
       "  \u001b[32m\"B Y\"\u001b[39m,\n",
       "  \u001b[32m\"A Y\"\u001b[39m,\n",
       "  \u001b[32m\"A X\"\u001b[39m,\n",
       "  \u001b[32m\"A Y\"\u001b[39m,\n",
       "  \u001b[32m\"C X\"\u001b[39m,\n",
       "  \u001b[32m\"A Y\"\u001b[39m,\n",
       "  \u001b[32m\"A Y\"\u001b[39m,\n",
       "  \u001b[32m\"B Y\"\u001b[39m,\n",
       "  \u001b[32m\"B Z\"\u001b[39m,\n",
       "  \u001b[32m\"A Y\"\u001b[39m,\n",
       "  \u001b[32m\"B Z\"\u001b[39m,\n",
       "  \u001b[32m\"B Z\"\u001b[39m,\n",
       "  \u001b[32m\"B Z\"\u001b[39m,\n",
       "  \u001b[32m\"B Y\"\u001b[39m,\n",
       "  \u001b[32m\"A Z\"\u001b[39m,\n",
       "  \u001b[32m\"A Y\"\u001b[39m,\n",
       "  \u001b[32m\"B X\"\u001b[39m,\n",
       "  \u001b[32m\"A Z\"\u001b[39m,\n",
       "  \u001b[32m\"A Z\"\u001b[39m,\n",
       "  \u001b[32m\"A Z\"\u001b[39m,\n",
       "  \u001b[32m\"B Z\"\u001b[39m,\n",
       "  \u001b[32m\"A Y\"\u001b[39m,\n",
       "  \u001b[32m\"A Z\"\u001b[39m,\n",
       "  \u001b[32m\"C X\"\u001b[39m,\n",
       "  \u001b[32m\"B Z\"\u001b[39m,\n",
       "  \u001b[32m\"A Y\"\u001b[39m,\n",
       "  \u001b[32m\"B Z\"\u001b[39m,\n",
       "  \u001b[32m\"B Y\"\u001b[39m,\n",
       "  \u001b[32m\"A Y\"\u001b[39m,\n",
       "  \u001b[32m\"A Y\"\u001b[39m,\n",
       "  \u001b[32m\"A Y\"\u001b[39m,\n",
       "  \u001b[32m\"A Y\"\u001b[39m,\n",
       "  \u001b[32m\"A Z\"\u001b[39m,\n",
       "  \u001b[32m\"C X\"\u001b[39m,\n",
       "..."
      ]
     },
     "execution_count": 12,
     "metadata": {},
     "output_type": "execute_result"
    }
   ],
   "source": [
    "import scala.io.Source\n",
    "\n",
    "val filename = \"day2input\"\n",
    "\n",
    "val rawData = Source.fromFile(filename).getLines.toList"
   ]
  },
  {
   "cell_type": "code",
   "execution_count": 13,
   "metadata": {},
   "outputs": [
    {
     "data": {
      "text/plain": [
       "defined \u001b[32mclass\u001b[39m \u001b[36mRPS\u001b[39m\n",
       "defined \u001b[32mobject\u001b[39m \u001b[36mRPS\u001b[39m\n",
       "defined \u001b[32mfunction\u001b[39m \u001b[36mmapToRPS\u001b[39m"
      ]
     },
     "execution_count": 13,
     "metadata": {},
     "output_type": "execute_result"
    }
   ],
   "source": [
    "sealed abstract class RPS\n",
    "\n",
    "object RPS {\n",
    "    case object Rock extends RPS\n",
    "    case object Paper extends RPS\n",
    "    case object Scissors extends RPS\n",
    "}\n",
    "\n",
    "def mapToRPS(encrypted: String) = encrypted match {\n",
    "    case \"A\" | \"X\" => RPS.Rock\n",
    "    case \"B\" | \"Y\" => RPS.Paper\n",
    "    case \"C\" | \"Z\" => RPS.Scissors\n",
    "}"
   ]
  },
  {
   "cell_type": "code",
   "execution_count": 14,
   "metadata": {},
   "outputs": [
    {
     "data": {
      "text/plain": [
       "\u001b[36mmoves\u001b[39m: \u001b[32mList\u001b[39m[(\u001b[32mProduct\u001b[39m with \u001b[32mRPS\u001b[39m with \u001b[32mSerializable\u001b[39m, \u001b[32mProduct\u001b[39m with \u001b[32mRPS\u001b[39m with \u001b[32mSerializable\u001b[39m)] = \u001b[33mList\u001b[39m(\n",
       "  (Paper, Rock),\n",
       "  (Paper, Paper),\n",
       "  (Rock, Paper),\n",
       "  (Paper, Paper),\n",
       "  (Paper, Paper),\n",
       "  (Rock, Paper),\n",
       "  (Rock, Rock),\n",
       "  (Rock, Paper),\n",
       "  (Scissors, Rock),\n",
       "  (Rock, Paper),\n",
       "  (Rock, Paper),\n",
       "  (Paper, Paper),\n",
       "  (Paper, Scissors),\n",
       "  (Rock, Paper),\n",
       "  (Paper, Scissors),\n",
       "  (Paper, Scissors),\n",
       "  (Paper, Scissors),\n",
       "  (Paper, Paper),\n",
       "  (Rock, Scissors),\n",
       "  (Rock, Paper),\n",
       "  (Paper, Rock),\n",
       "  (Rock, Scissors),\n",
       "  (Rock, Scissors),\n",
       "  (Rock, Scissors),\n",
       "  (Paper, Scissors),\n",
       "  (Rock, Paper),\n",
       "  (Rock, Scissors),\n",
       "  (Scissors, Rock),\n",
       "  (Paper, Scissors),\n",
       "  (Rock, Paper),\n",
       "  (Paper, Scissors),\n",
       "  (Paper, Paper),\n",
       "  (Rock, Paper),\n",
       "  (Rock, Paper),\n",
       "  (Rock, Paper),\n",
       "  (Rock, Paper),\n",
       "  (Rock, Scissors),\n",
       "..."
      ]
     },
     "execution_count": 14,
     "metadata": {},
     "output_type": "execute_result"
    }
   ],
   "source": [
    "val moves = rawData.map(\n",
    "    move => move.split(\" \").toList.map(mapToRPS) match {\n",
    "        case List(a, b) => (a, b)\n",
    "    }\n",
    ")"
   ]
  },
  {
   "cell_type": "code",
   "execution_count": 15,
   "metadata": {},
   "outputs": [
    {
     "data": {
      "text/plain": [
       "defined \u001b[32mfunction\u001b[39m \u001b[36mgetChoiceScore\u001b[39m\n",
       "defined \u001b[32mfunction\u001b[39m \u001b[36mgetMatchScore\u001b[39m"
      ]
     },
     "execution_count": 15,
     "metadata": {},
     "output_type": "execute_result"
    }
   ],
   "source": [
    "def getChoiceScore(choice: RPS) = choice match {\n",
    "    case RPS.Rock => 1\n",
    "    case RPS.Paper => 2\n",
    "    case RPS.Scissors => 3 \n",
    "}\n",
    "\n",
    "def getMatchScore(choices: (RPS, RPS)) = choices match {\n",
    "    case (RPS.Paper, RPS.Scissors) | (RPS.Rock, RPS.Paper) | (RPS.Scissors, RPS.Rock) => 6\n",
    "    case (a, b) if a == b => 3\n",
    "    case (_, _) => 0\n",
    "}"
   ]
  },
  {
   "cell_type": "code",
   "execution_count": 16,
   "metadata": {},
   "outputs": [
    {
     "data": {
      "text/plain": [
       "\u001b[36mresults\u001b[39m: \u001b[32mList\u001b[39m[\u001b[32mInt\u001b[39m] = \u001b[33mList\u001b[39m(\n",
       "  \u001b[32m1\u001b[39m,\n",
       "  \u001b[32m5\u001b[39m,\n",
       "  \u001b[32m8\u001b[39m,\n",
       "  \u001b[32m5\u001b[39m,\n",
       "  \u001b[32m5\u001b[39m,\n",
       "  \u001b[32m8\u001b[39m,\n",
       "  \u001b[32m4\u001b[39m,\n",
       "  \u001b[32m8\u001b[39m,\n",
       "  \u001b[32m7\u001b[39m,\n",
       "  \u001b[32m8\u001b[39m,\n",
       "  \u001b[32m8\u001b[39m,\n",
       "  \u001b[32m5\u001b[39m,\n",
       "  \u001b[32m9\u001b[39m,\n",
       "  \u001b[32m8\u001b[39m,\n",
       "  \u001b[32m9\u001b[39m,\n",
       "  \u001b[32m9\u001b[39m,\n",
       "  \u001b[32m9\u001b[39m,\n",
       "  \u001b[32m5\u001b[39m,\n",
       "  \u001b[32m3\u001b[39m,\n",
       "  \u001b[32m8\u001b[39m,\n",
       "  \u001b[32m1\u001b[39m,\n",
       "  \u001b[32m3\u001b[39m,\n",
       "  \u001b[32m3\u001b[39m,\n",
       "  \u001b[32m3\u001b[39m,\n",
       "  \u001b[32m9\u001b[39m,\n",
       "  \u001b[32m8\u001b[39m,\n",
       "  \u001b[32m3\u001b[39m,\n",
       "  \u001b[32m7\u001b[39m,\n",
       "  \u001b[32m9\u001b[39m,\n",
       "  \u001b[32m8\u001b[39m,\n",
       "  \u001b[32m9\u001b[39m,\n",
       "  \u001b[32m5\u001b[39m,\n",
       "  \u001b[32m8\u001b[39m,\n",
       "  \u001b[32m8\u001b[39m,\n",
       "  \u001b[32m8\u001b[39m,\n",
       "  \u001b[32m8\u001b[39m,\n",
       "  \u001b[32m3\u001b[39m,\n",
       "  \u001b[32m7\u001b[39m,\n",
       "..."
      ]
     },
     "execution_count": 16,
     "metadata": {},
     "output_type": "execute_result"
    }
   ],
   "source": [
    "val results = moves.map(move => getChoiceScore(move._2) + getMatchScore(move))"
   ]
  },
  {
   "cell_type": "code",
   "execution_count": 17,
   "metadata": {},
   "outputs": [
    {
     "data": {
      "text/plain": [
       "\u001b[36mtotalScore\u001b[39m: \u001b[32mInt\u001b[39m = \u001b[32m15691\u001b[39m"
      ]
     },
     "execution_count": 17,
     "metadata": {},
     "output_type": "execute_result"
    }
   ],
   "source": [
    "val totalScore = results.sum"
   ]
  },
  {
   "cell_type": "markdown",
   "metadata": {},
   "source": [
    "--- Part Two ---\n",
    "\n",
    "The Elf finishes helping with the tent and sneaks back over to you. \"Anyway, the second column says how the round needs to end: X means you need to lose, Y means you need to end the round in a draw, and Z means you need to win. Good luck!\"\n",
    "\n",
    "The total score is still calculated in the same way, but now you need to figure out what shape to choose so the round ends as indicated. The example above now goes like this:\n",
    "\n",
    "    In the first round, your opponent will choose Rock (A), and you need the round to end in a draw (Y), so you also choose Rock. This gives you a score of 1 + 3 = 4.\n",
    "    In the second round, your opponent will choose Paper (B), and you choose Rock so you lose (X) with a score of 1 + 0 = 1.\n",
    "    In the third round, you will defeat your opponent's Scissors with Rock for a score of 1 + 6 = 7.\n",
    "\n",
    "Now that you're correctly decrypting the ultra top secret strategy guide, you would get a total score of 12.\n",
    "\n",
    "Following the Elf's instructions for the second column, what would your total score be if everything goes exactly according to your strategy guide?\n"
   ]
  },
  {
   "cell_type": "code",
   "execution_count": 18,
   "metadata": {},
   "outputs": [
    {
     "data": {
      "text/plain": [
       "defined \u001b[32mclass\u001b[39m \u001b[36mOutcome\u001b[39m\n",
       "defined \u001b[32mobject\u001b[39m \u001b[36mOutcome\u001b[39m\n",
       "defined \u001b[32mfunction\u001b[39m \u001b[36mmapToResult\u001b[39m"
      ]
     },
     "execution_count": 18,
     "metadata": {},
     "output_type": "execute_result"
    }
   ],
   "source": [
    "sealed abstract class Outcome\n",
    "\n",
    "object Outcome {\n",
    "    case object Win extends Outcome\n",
    "    case object Draw extends Outcome\n",
    "    case object Loose extends Outcome\n",
    "}\n",
    "\n",
    "def mapToResult(encrypted: String) = encrypted match {\n",
    "    case \"X\" => Outcome.Loose\n",
    "    case \"Y\" => Outcome.Draw\n",
    "    case \"Z\" => Outcome.Win\n",
    "}"
   ]
  },
  {
   "cell_type": "code",
   "execution_count": 20,
   "metadata": {},
   "outputs": [
    {
     "data": {
      "text/plain": [
       "\u001b[36mmoveResults\u001b[39m: \u001b[32mList\u001b[39m[(\u001b[32mProduct\u001b[39m with \u001b[32mRPS\u001b[39m with \u001b[32mSerializable\u001b[39m, \u001b[32mProduct\u001b[39m with \u001b[32mOutcome\u001b[39m with \u001b[32mSerializable\u001b[39m)] = \u001b[33mList\u001b[39m(\n",
       "  (Paper, Loose),\n",
       "  (Paper, Draw),\n",
       "  (Rock, Draw),\n",
       "  (Paper, Draw),\n",
       "  (Paper, Draw),\n",
       "  (Rock, Draw),\n",
       "  (Rock, Loose),\n",
       "  (Rock, Draw),\n",
       "  (Scissors, Loose),\n",
       "  (Rock, Draw),\n",
       "  (Rock, Draw),\n",
       "  (Paper, Draw),\n",
       "  (Paper, Win),\n",
       "  (Rock, Draw),\n",
       "  (Paper, Win),\n",
       "  (Paper, Win),\n",
       "  (Paper, Win),\n",
       "  (Paper, Draw),\n",
       "  (Rock, Win),\n",
       "  (Rock, Draw),\n",
       "  (Paper, Loose),\n",
       "  (Rock, Win),\n",
       "  (Rock, Win),\n",
       "  (Rock, Win),\n",
       "  (Paper, Win),\n",
       "  (Rock, Draw),\n",
       "  (Rock, Win),\n",
       "  (Scissors, Loose),\n",
       "  (Paper, Win),\n",
       "  (Rock, Draw),\n",
       "  (Paper, Win),\n",
       "  (Paper, Draw),\n",
       "  (Rock, Draw),\n",
       "  (Rock, Draw),\n",
       "  (Rock, Draw),\n",
       "  (Rock, Draw),\n",
       "  (Rock, Win),\n",
       "..."
      ]
     },
     "execution_count": 20,
     "metadata": {},
     "output_type": "execute_result"
    }
   ],
   "source": [
    "val moveResults = rawData.map(\n",
    "    move => move.split(\" \").toList match {\n",
    "        case List(a, b) => (mapToRPS(a), mapToResult(b))\n",
    "    }\n",
    ")"
   ]
  },
  {
   "cell_type": "code",
   "execution_count": 21,
   "metadata": {},
   "outputs": [
    {
     "data": {
      "text/plain": [
       "defined \u001b[32mfunction\u001b[39m \u001b[36mgetChoice\u001b[39m"
      ]
     },
     "execution_count": 21,
     "metadata": {},
     "output_type": "execute_result"
    }
   ],
   "source": [
    "def getChoice(moveResult: (RPS, Outcome)) = moveResult match {\n",
    "    case (RPS.Paper, Outcome.Loose) | (RPS.Rock, Outcome.Draw) | (RPS.Scissors, Outcome.Win) => RPS.Rock\n",
    "    case (RPS.Paper, Outcome.Draw) | (RPS.Rock, Outcome.Win) | (RPS.Scissors, Outcome.Loose) => RPS.Paper\n",
    "    case (RPS.Paper, Outcome.Win) | (RPS.Rock, Outcome.Loose) | (RPS.Scissors, Outcome.Draw) => RPS.Scissors\n",
    "}"
   ]
  },
  {
   "cell_type": "code",
   "execution_count": 23,
   "metadata": {},
   "outputs": [
    {
     "data": {
      "text/plain": [
       "\u001b[36mcalculatedMoves\u001b[39m: \u001b[32mList\u001b[39m[(\u001b[32mProduct\u001b[39m with \u001b[32mRPS\u001b[39m with \u001b[32mSerializable\u001b[39m, \u001b[32mProduct\u001b[39m with \u001b[32mRPS\u001b[39m with \u001b[32mSerializable\u001b[39m)] = \u001b[33mList\u001b[39m(\n",
       "  (Paper, Rock),\n",
       "  (Paper, Paper),\n",
       "  (Rock, Rock),\n",
       "  (Paper, Paper),\n",
       "  (Paper, Paper),\n",
       "  (Rock, Rock),\n",
       "  (Rock, Scissors),\n",
       "  (Rock, Rock),\n",
       "  (Scissors, Paper),\n",
       "  (Rock, Rock),\n",
       "  (Rock, Rock),\n",
       "  (Paper, Paper),\n",
       "  (Paper, Scissors),\n",
       "  (Rock, Rock),\n",
       "  (Paper, Scissors),\n",
       "  (Paper, Scissors),\n",
       "  (Paper, Scissors),\n",
       "  (Paper, Paper),\n",
       "  (Rock, Paper),\n",
       "  (Rock, Rock),\n",
       "  (Paper, Rock),\n",
       "  (Rock, Paper),\n",
       "  (Rock, Paper),\n",
       "  (Rock, Paper),\n",
       "  (Paper, Scissors),\n",
       "  (Rock, Rock),\n",
       "  (Rock, Paper),\n",
       "  (Scissors, Paper),\n",
       "  (Paper, Scissors),\n",
       "  (Rock, Rock),\n",
       "  (Paper, Scissors),\n",
       "  (Paper, Paper),\n",
       "  (Rock, Rock),\n",
       "  (Rock, Rock),\n",
       "  (Rock, Rock),\n",
       "  (Rock, Rock),\n",
       "  (Rock, Paper),\n",
       "..."
      ]
     },
     "execution_count": 23,
     "metadata": {},
     "output_type": "execute_result"
    }
   ],
   "source": [
    "val calculatedMoves = moveResults.map(moveResult => (moveResult._1, getChoice(moveResult)))"
   ]
  },
  {
   "cell_type": "code",
   "execution_count": 24,
   "metadata": {},
   "outputs": [
    {
     "data": {
      "text/plain": [
       "\u001b[36mscores\u001b[39m: \u001b[32mList\u001b[39m[\u001b[32mInt\u001b[39m] = \u001b[33mList\u001b[39m(\n",
       "  \u001b[32m1\u001b[39m,\n",
       "  \u001b[32m5\u001b[39m,\n",
       "  \u001b[32m4\u001b[39m,\n",
       "  \u001b[32m5\u001b[39m,\n",
       "  \u001b[32m5\u001b[39m,\n",
       "  \u001b[32m4\u001b[39m,\n",
       "  \u001b[32m3\u001b[39m,\n",
       "  \u001b[32m4\u001b[39m,\n",
       "  \u001b[32m2\u001b[39m,\n",
       "  \u001b[32m4\u001b[39m,\n",
       "  \u001b[32m4\u001b[39m,\n",
       "  \u001b[32m5\u001b[39m,\n",
       "  \u001b[32m9\u001b[39m,\n",
       "  \u001b[32m4\u001b[39m,\n",
       "  \u001b[32m9\u001b[39m,\n",
       "  \u001b[32m9\u001b[39m,\n",
       "  \u001b[32m9\u001b[39m,\n",
       "  \u001b[32m5\u001b[39m,\n",
       "  \u001b[32m8\u001b[39m,\n",
       "  \u001b[32m4\u001b[39m,\n",
       "  \u001b[32m1\u001b[39m,\n",
       "  \u001b[32m8\u001b[39m,\n",
       "  \u001b[32m8\u001b[39m,\n",
       "  \u001b[32m8\u001b[39m,\n",
       "  \u001b[32m9\u001b[39m,\n",
       "  \u001b[32m4\u001b[39m,\n",
       "  \u001b[32m8\u001b[39m,\n",
       "  \u001b[32m2\u001b[39m,\n",
       "  \u001b[32m9\u001b[39m,\n",
       "  \u001b[32m4\u001b[39m,\n",
       "  \u001b[32m9\u001b[39m,\n",
       "  \u001b[32m5\u001b[39m,\n",
       "  \u001b[32m4\u001b[39m,\n",
       "  \u001b[32m4\u001b[39m,\n",
       "  \u001b[32m4\u001b[39m,\n",
       "  \u001b[32m4\u001b[39m,\n",
       "  \u001b[32m8\u001b[39m,\n",
       "  \u001b[32m2\u001b[39m,\n",
       "..."
      ]
     },
     "execution_count": 24,
     "metadata": {},
     "output_type": "execute_result"
    }
   ],
   "source": [
    "val scores = calculatedMoves.map(move => getChoiceScore(move._2) + getMatchScore(move))"
   ]
  },
  {
   "cell_type": "code",
   "execution_count": 25,
   "metadata": {},
   "outputs": [
    {
     "data": {
      "text/plain": [
       "\u001b[36mtotalCalculatedScores\u001b[39m: \u001b[32mInt\u001b[39m = \u001b[32m12989\u001b[39m"
      ]
     },
     "execution_count": 25,
     "metadata": {},
     "output_type": "execute_result"
    }
   ],
   "source": [
    "val totalCalculatedScores = scores.sum"
   ]
  }
 ],
 "metadata": {
  "kernelspec": {
   "display_name": "Scala",
   "language": "scala",
   "name": "scala"
  },
  "language_info": {
   "codemirror_mode": "text/x-scala",
   "file_extension": ".sc",
   "mimetype": "text/x-scala",
   "name": "scala",
   "nbconvert_exporter": "script",
   "version": "2.13.10"
  },
  "orig_nbformat": 4
 },
 "nbformat": 4,
 "nbformat_minor": 2
}
