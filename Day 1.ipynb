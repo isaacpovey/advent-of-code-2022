{
 "cells": [
  {
   "cell_type": "markdown",
   "id": "c1ce4f9f",
   "metadata": {},
   "source": [
    "--- Day 1: Calorie Counting ---\n",
    "\n",
    "Santa's reindeer typically eat regular reindeer food, but they need a lot of magical energy to deliver presents on Christmas. For that, their favorite snack is a special type of star fruit that only grows deep in the jungle. The Elves have brought you on their annual expedition to the grove where the fruit grows.\n",
    "\n",
    "To supply enough magical energy, the expedition needs to retrieve a minimum of fifty stars by December 25th. Although the Elves assure you that the grove has plenty of fruit, you decide to grab any fruit you see along the way, just in case.\n",
    "\n",
    "Collect stars by solving puzzles. Two puzzles will be made available on each day in the Advent calendar; the second puzzle is unlocked when you complete the first. Each puzzle grants one star. Good luck!\n",
    "\n",
    "The jungle must be too overgrown and difficult to navigate in vehicles or access from the air; the Elves' expedition traditionally goes on foot. As your boats approach land, the Elves begin taking inventory of their supplies. One important consideration is food - in particular, the number of Calories each Elf is carrying (your puzzle input).\n",
    "\n",
    "The Elves take turns writing down the number of Calories contained by the various meals, snacks, rations, etc. that they've brought with them, one item per line. Each Elf separates their own inventory from the previous Elf's inventory (if any) by a blank line.\n",
    "\n",
    "For example, suppose the Elves finish writing their items' Calories and end up with the following list:\n",
    "\n",
    "1000\n",
    "2000\n",
    "3000\n",
    "\n",
    "4000\n",
    "\n",
    "5000\n",
    "6000\n",
    "\n",
    "7000\n",
    "8000\n",
    "9000\n",
    "\n",
    "10000\n",
    "\n",
    "This list represents the Calories of the food carried by five Elves:\n",
    "\n",
    "    The first Elf is carrying food with 1000, 2000, and 3000 Calories, a total of 6000 Calories.\n",
    "    The second Elf is carrying one food item with 4000 Calories.\n",
    "    The third Elf is carrying food with 5000 and 6000 Calories, a total of 11000 Calories.\n",
    "    The fourth Elf is carrying food with 7000, 8000, and 9000 Calories, a total of 24000 Calories.\n",
    "    The fifth Elf is carrying one food item with 10000 Calories.\n",
    "\n",
    "In case the Elves get hungry and need extra snacks, they need to know which Elf to ask: they'd like to know how many Calories are being carried by the Elf carrying the most Calories. In the example above, this is 24000 (carried by the fourth Elf).\n",
    "\n",
    "Find the Elf carrying the most Calories. How many total Calories is that Elf carrying?"
   ]
  },
  {
   "cell_type": "code",
   "execution_count": 1,
   "id": "a55c0596",
   "metadata": {
    "pycharm": {
     "is_executing": true
    }
   },
   "outputs": [
    {
     "data": {
      "text/plain": [
       "\u001b[32mimport \u001b[39m\u001b[36mscala.io.Source\n",
       "\n",
       "\u001b[39m\n",
       "\u001b[36mfilename\u001b[39m: \u001b[32mString\u001b[39m = \u001b[32m\"day1input\"\u001b[39m\n",
       "\u001b[36mrawData\u001b[39m: \u001b[32mList\u001b[39m[\u001b[32mString\u001b[39m] = \u001b[33mList\u001b[39m(\n",
       "  \u001b[32m\"3427\"\u001b[39m,\n",
       "  \u001b[32m\"3273\"\u001b[39m,\n",
       "  \u001b[32m\"5615\"\u001b[39m,\n",
       "  \u001b[32m\"5943\"\u001b[39m,\n",
       "  \u001b[32m\"3125\"\u001b[39m,\n",
       "  \u001b[32m\"4245\"\u001b[39m,\n",
       "  \u001b[32m\"4194\"\u001b[39m,\n",
       "  \u001b[32m\"3243\"\u001b[39m,\n",
       "  \u001b[32m\"4283\"\u001b[39m,\n",
       "  \u001b[32m\"1790\"\u001b[39m,\n",
       "  \u001b[32m\"5355\"\u001b[39m,\n",
       "  \u001b[32m\"4239\"\u001b[39m,\n",
       "  \u001b[32m\"5541\"\u001b[39m,\n",
       "  \u001b[32m\"\"\u001b[39m,\n",
       "  \u001b[32m\"3850\"\u001b[39m,\n",
       "  \u001b[32m\"5294\"\u001b[39m,\n",
       "  \u001b[32m\"5393\"\u001b[39m,\n",
       "  \u001b[32m\"2490\"\u001b[39m,\n",
       "  \u001b[32m\"3231\"\u001b[39m,\n",
       "  \u001b[32m\"2743\"\u001b[39m,\n",
       "  \u001b[32m\"2016\"\u001b[39m,\n",
       "  \u001b[32m\"2418\"\u001b[39m,\n",
       "  \u001b[32m\"2304\"\u001b[39m,\n",
       "  \u001b[32m\"5673\"\u001b[39m,\n",
       "  \u001b[32m\"3035\"\u001b[39m,\n",
       "  \u001b[32m\"5292\"\u001b[39m,\n",
       "  \u001b[32m\"2112\"\u001b[39m,\n",
       "  \u001b[32m\"2630\"\u001b[39m,\n",
       "  \u001b[32m\"2305\"\u001b[39m,\n",
       "  \u001b[32m\"\"\u001b[39m,\n",
       "  \u001b[32m\"2325\"\u001b[39m,\n",
       "  \u001b[32m\"2002\"\u001b[39m,\n",
       "  \u001b[32m\"3402\"\u001b[39m,\n",
       "  \u001b[32m\"4756\"\u001b[39m,\n",
       "  \u001b[32m\"1662\"\u001b[39m,\n",
       "  \u001b[32m\"1133\"\u001b[39m,\n",
       "  \u001b[32m\"5273\"\u001b[39m,\n",
       "  \u001b[32m\"6397\"\u001b[39m,\n",
       "..."
      ]
     },
     "execution_count": 1,
     "metadata": {},
     "output_type": "execute_result"
    }
   ],
   "source": [
    "import scala.io.Source\n",
    "\n",
    "val filename = \"day1input\"\n",
    "\n",
    "val rawData = Source.fromFile(filename).getLines.toList"
   ]
  },
  {
   "cell_type": "code",
   "execution_count": 2,
   "id": "52b395f7",
   "metadata": {},
   "outputs": [
    {
     "data": {
      "text/plain": [
       "defined \u001b[32mfunction\u001b[39m \u001b[36msplitList\u001b[39m\n",
       "\u001b[36melves\u001b[39m: \u001b[32mList\u001b[39m[\u001b[32mList\u001b[39m[\u001b[32mString\u001b[39m]] = \u001b[33mList\u001b[39m(\n",
       "  \u001b[33mList\u001b[39m(\n",
       "    \u001b[32m\"3427\"\u001b[39m,\n",
       "    \u001b[32m\"3273\"\u001b[39m,\n",
       "    \u001b[32m\"5615\"\u001b[39m,\n",
       "    \u001b[32m\"5943\"\u001b[39m,\n",
       "    \u001b[32m\"3125\"\u001b[39m,\n",
       "    \u001b[32m\"4245\"\u001b[39m,\n",
       "    \u001b[32m\"4194\"\u001b[39m,\n",
       "    \u001b[32m\"3243\"\u001b[39m,\n",
       "    \u001b[32m\"4283\"\u001b[39m,\n",
       "    \u001b[32m\"1790\"\u001b[39m,\n",
       "    \u001b[32m\"5355\"\u001b[39m,\n",
       "    \u001b[32m\"4239\"\u001b[39m,\n",
       "    \u001b[32m\"5541\"\u001b[39m\n",
       "  ),\n",
       "  \u001b[33mList\u001b[39m(\n",
       "    \u001b[32m\"3850\"\u001b[39m,\n",
       "    \u001b[32m\"5294\"\u001b[39m,\n",
       "    \u001b[32m\"5393\"\u001b[39m,\n",
       "    \u001b[32m\"2490\"\u001b[39m,\n",
       "    \u001b[32m\"3231\"\u001b[39m,\n",
       "    \u001b[32m\"2743\"\u001b[39m,\n",
       "    \u001b[32m\"2016\"\u001b[39m,\n",
       "    \u001b[32m\"2418\"\u001b[39m,\n",
       "    \u001b[32m\"2304\"\u001b[39m,\n",
       "    \u001b[32m\"5673\"\u001b[39m,\n",
       "    \u001b[32m\"3035\"\u001b[39m,\n",
       "    \u001b[32m\"5292\"\u001b[39m,\n",
       "    \u001b[32m\"2112\"\u001b[39m,\n",
       "    \u001b[32m\"2630\"\u001b[39m,\n",
       "    \u001b[32m\"2305\"\u001b[39m\n",
       "  ),\n",
       "  \u001b[33mList\u001b[39m(\n",
       "    \u001b[32m\"2325\"\u001b[39m,\n",
       "    \u001b[32m\"2002\"\u001b[39m,\n",
       "    \u001b[32m\"3402\"\u001b[39m,\n",
       "    \u001b[32m\"4756\"\u001b[39m,\n",
       "    \u001b[32m\"1662\"\u001b[39m,\n",
       "..."
      ]
     },
     "execution_count": 2,
     "metadata": {},
     "output_type": "execute_result"
    }
   ],
   "source": [
    "def splitList(combined: List[List[String]], list: List[String]): List[List[String]] = {\n",
    "    val split = list.span(x => x != \"\")\n",
    "    val newCombined = combined :+ split._1\n",
    "    val unprocessed = split._2.drop(1)\n",
    "    if (unprocessed.isEmpty){\n",
    "        newCombined\n",
    "    } else {\n",
    "        splitList(newCombined, unprocessed)\n",
    "    }\n",
    "        \n",
    "}\n",
    "\n",
    "val elves = splitList(List(), rawData)"
   ]
  },
  {
   "cell_type": "code",
   "execution_count": 3,
   "id": "5975e2d7",
   "metadata": {},
   "outputs": [
    {
     "data": {
      "text/plain": [
       "\u001b[36melfTotals\u001b[39m: \u001b[32mList\u001b[39m[\u001b[32mInt\u001b[39m] = \u001b[33mList\u001b[39m(\n",
       "  \u001b[32m54273\u001b[39m,\n",
       "  \u001b[32m50786\u001b[39m,\n",
       "  \u001b[32m47383\u001b[39m,\n",
       "  \u001b[32m48088\u001b[39m,\n",
       "  \u001b[32m42497\u001b[39m,\n",
       "  \u001b[32m48625\u001b[39m,\n",
       "  \u001b[32m48083\u001b[39m,\n",
       "  \u001b[32m58597\u001b[39m,\n",
       "  \u001b[32m53996\u001b[39m,\n",
       "  \u001b[32m42727\u001b[39m,\n",
       "  \u001b[32m51398\u001b[39m,\n",
       "  \u001b[32m41338\u001b[39m,\n",
       "  \u001b[32m54225\u001b[39m,\n",
       "  \u001b[32m46142\u001b[39m,\n",
       "  \u001b[32m49899\u001b[39m,\n",
       "  \u001b[32m47586\u001b[39m,\n",
       "  \u001b[32m50030\u001b[39m,\n",
       "  \u001b[32m40939\u001b[39m,\n",
       "  \u001b[32m57297\u001b[39m,\n",
       "  \u001b[32m48647\u001b[39m,\n",
       "  \u001b[32m49731\u001b[39m,\n",
       "  \u001b[32m50189\u001b[39m,\n",
       "  \u001b[32m50529\u001b[39m,\n",
       "  \u001b[32m35951\u001b[39m,\n",
       "  \u001b[32m50694\u001b[39m,\n",
       "  \u001b[32m49022\u001b[39m,\n",
       "  \u001b[32m51520\u001b[39m,\n",
       "  \u001b[32m48710\u001b[39m,\n",
       "  \u001b[32m47711\u001b[39m,\n",
       "  \u001b[32m50880\u001b[39m,\n",
       "  \u001b[32m50932\u001b[39m,\n",
       "  \u001b[32m57041\u001b[39m,\n",
       "  \u001b[32m36461\u001b[39m,\n",
       "  \u001b[32m52012\u001b[39m,\n",
       "  \u001b[32m46026\u001b[39m,\n",
       "  \u001b[32m42166\u001b[39m,\n",
       "  \u001b[32m56362\u001b[39m,\n",
       "  \u001b[32m44154\u001b[39m,\n",
       "..."
      ]
     },
     "execution_count": 3,
     "metadata": {},
     "output_type": "execute_result"
    }
   ],
   "source": [
    "val elfTotals = elves.map(elf => elf.map(_.toInt).sum)"
   ]
  },
  {
   "cell_type": "code",
   "execution_count": 4,
   "id": "e2cbfec5",
   "metadata": {},
   "outputs": [
    {
     "data": {
      "text/plain": [
       "\u001b[36mmax\u001b[39m: \u001b[32mInt\u001b[39m = \u001b[32m68775\u001b[39m"
      ]
     },
     "execution_count": 4,
     "metadata": {},
     "output_type": "execute_result"
    }
   ],
   "source": [
    "val max = elfTotals.iterator.max"
   ]
  },
  {
   "cell_type": "code",
   "execution_count": 5,
   "id": "52fcedc8",
   "metadata": {},
   "outputs": [
    {
     "data": {
      "text/plain": [
       "\u001b[36msorted\u001b[39m: \u001b[32mList\u001b[39m[\u001b[32mInt\u001b[39m] = \u001b[33mList\u001b[39m(\n",
       "  \u001b[32m68775\u001b[39m,\n",
       "  \u001b[32m67045\u001b[39m,\n",
       "  \u001b[32m66765\u001b[39m,\n",
       "  \u001b[32m65924\u001b[39m,\n",
       "  \u001b[32m64498\u001b[39m,\n",
       "  \u001b[32m64481\u001b[39m,\n",
       "  \u001b[32m63207\u001b[39m,\n",
       "  \u001b[32m63101\u001b[39m,\n",
       "  \u001b[32m63049\u001b[39m,\n",
       "  \u001b[32m62125\u001b[39m,\n",
       "  \u001b[32m61387\u001b[39m,\n",
       "  \u001b[32m61230\u001b[39m,\n",
       "  \u001b[32m61016\u001b[39m,\n",
       "  \u001b[32m60528\u001b[39m,\n",
       "  \u001b[32m59931\u001b[39m,\n",
       "  \u001b[32m59704\u001b[39m,\n",
       "  \u001b[32m59348\u001b[39m,\n",
       "  \u001b[32m58597\u001b[39m,\n",
       "  \u001b[32m58355\u001b[39m,\n",
       "  \u001b[32m58222\u001b[39m,\n",
       "  \u001b[32m58198\u001b[39m,\n",
       "  \u001b[32m58153\u001b[39m,\n",
       "  \u001b[32m58102\u001b[39m,\n",
       "  \u001b[32m58065\u001b[39m,\n",
       "  \u001b[32m57835\u001b[39m,\n",
       "  \u001b[32m57833\u001b[39m,\n",
       "  \u001b[32m57625\u001b[39m,\n",
       "  \u001b[32m57622\u001b[39m,\n",
       "  \u001b[32m57523\u001b[39m,\n",
       "  \u001b[32m57343\u001b[39m,\n",
       "  \u001b[32m57297\u001b[39m,\n",
       "  \u001b[32m57210\u001b[39m,\n",
       "  \u001b[32m57041\u001b[39m,\n",
       "  \u001b[32m57018\u001b[39m,\n",
       "  \u001b[32m56821\u001b[39m,\n",
       "  \u001b[32m56522\u001b[39m,\n",
       "  \u001b[32m56446\u001b[39m,\n",
       "  \u001b[32m56362\u001b[39m,\n",
       "..."
      ]
     },
     "execution_count": 5,
     "metadata": {},
     "output_type": "execute_result"
    }
   ],
   "source": [
    "val sorted = elfTotals.sorted.reverse"
   ]
  },
  {
   "cell_type": "code",
   "execution_count": 6,
   "id": "043f0e19",
   "metadata": {},
   "outputs": [
    {
     "data": {
      "text/plain": [
       "\u001b[36mtop3\u001b[39m: \u001b[32mInt\u001b[39m = \u001b[32m202585\u001b[39m"
      ]
     },
     "execution_count": 6,
     "metadata": {},
     "output_type": "execute_result"
    }
   ],
   "source": [
    "val top3 = sorted.take(3).sum"
   ]
  }
 ],
 "metadata": {
  "kernelspec": {
   "display_name": "Scala",
   "language": "scala",
   "name": "scala"
  },
  "language_info": {
   "codemirror_mode": "text/x-scala",
   "file_extension": ".sc",
   "mimetype": "text/x-scala",
   "name": "scala",
   "nbconvert_exporter": "script",
   "version": "2.13.10"
  }
 },
 "nbformat": 4,
 "nbformat_minor": 5
}
