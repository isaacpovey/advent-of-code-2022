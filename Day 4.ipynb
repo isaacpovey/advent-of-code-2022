{
 "cells": [
  {
   "cell_type": "markdown",
   "id": "b614c879",
   "metadata": {},
   "source": [
    "--- Day 4: Camp Cleanup ---\n",
    "\n",
    "Space needs to be cleared before the last supplies can be unloaded from the ships, and so several Elves have been assigned the job of cleaning up sections of the camp. Every section has a unique ID number, and each Elf is assigned a range of section IDs.\n",
    "\n",
    "However, as some of the Elves compare their section assignments with each other, they've noticed that many of the assignments overlap. To try to quickly find overlaps and reduce duplicated effort, the Elves pair up and make a big list of the section assignments for each pair (your puzzle input).\n",
    "\n",
    "For example, consider the following list of section assignment pairs:\n",
    "\n",
    "2-4,6-8\n",
    "2-3,4-5\n",
    "5-7,7-9\n",
    "2-8,3-7\n",
    "6-6,4-6\n",
    "2-6,4-8\n",
    "\n",
    "For the first few pairs, this list means:\n",
    "\n",
    "    Within the first pair of Elves, the first Elf was assigned sections 2-4 (sections 2, 3, and 4), while the second Elf was assigned sections 6-8 (sections 6, 7, 8).\n",
    "    The Elves in the second pair were each assigned two sections.\n",
    "    The Elves in the third pair were each assigned three sections: one got sections 5, 6, and 7, while the other also got 7, plus 8 and 9.\n",
    "\n",
    "This example list uses single-digit section IDs to make it easier to draw; your actual list might contain larger numbers. Visually, these pairs of section assignments look like this:\n",
    "\n",
    ".234.....  2-4\n",
    ".....678.  6-8\n",
    "\n",
    ".23......  2-3\n",
    "...45....  4-5\n",
    "\n",
    "....567..  5-7\n",
    "......789  7-9\n",
    "\n",
    ".2345678.  2-8\n",
    "..34567..  3-7\n",
    "\n",
    ".....6...  6-6\n",
    "...456...  4-6\n",
    "\n",
    ".23456...  2-6\n",
    "...45678.  4-8\n",
    "\n",
    "Some of the pairs have noticed that one of their assignments fully contains the other. For example, 2-8 fully contains 3-7, and 6-6 is fully contained by 4-6. In pairs where one assignment fully contains the other, one Elf in the pair would be exclusively cleaning sections their partner will already be cleaning, so these seem like the most in need of reconsideration. In this example, there are 2 such pairs.\n",
    "\n",
    "In how many assignment pairs does one range fully contain the other?\n"
   ]
  },
  {
   "cell_type": "code",
   "execution_count": 1,
   "id": "8d8467c4",
   "metadata": {},
   "outputs": [
    {
     "data": {
      "text/plain": [
       "\u001b[32mimport \u001b[39m\u001b[36mscala.io.Source\n",
       "\n",
       "\u001b[39m\n",
       "\u001b[36mfilename\u001b[39m: \u001b[32mString\u001b[39m = \u001b[32m\"day4input\"\u001b[39m\n",
       "\u001b[36mrawData\u001b[39m: \u001b[32mList\u001b[39m[\u001b[32mString\u001b[39m] = \u001b[33mList\u001b[39m(\n",
       "  \u001b[32m\"14-50,14-50\"\u001b[39m,\n",
       "  \u001b[32m\"43-44,43-87\"\u001b[39m,\n",
       "  \u001b[32m\"55-99,51-96\"\u001b[39m,\n",
       "  \u001b[32m\"67-68,68-91\"\u001b[39m,\n",
       "  \u001b[32m\"8-8,27-73\"\u001b[39m,\n",
       "  \u001b[32m\"22-92,21-92\"\u001b[39m,\n",
       "  \u001b[32m\"4-80,3-80\"\u001b[39m,\n",
       "  \u001b[32m\"10-67,34-67\"\u001b[39m,\n",
       "  \u001b[32m\"49-56,49-89\"\u001b[39m,\n",
       "  \u001b[32m\"27-96,27-28\"\u001b[39m,\n",
       "  \u001b[32m\"30-47,29-47\"\u001b[39m,\n",
       "  \u001b[32m\"75-75,16-74\"\u001b[39m,\n",
       "  \u001b[32m\"50-70,47-63\"\u001b[39m,\n",
       "  \u001b[32m\"9-89,10-88\"\u001b[39m,\n",
       "  \u001b[32m\"1-69,16-68\"\u001b[39m,\n",
       "  \u001b[32m\"9-76,52-76\"\u001b[39m,\n",
       "  \u001b[32m\"4-96,98-98\"\u001b[39m,\n",
       "  \u001b[32m\"28-66,11-29\"\u001b[39m,\n",
       "  \u001b[32m\"47-60,46-47\"\u001b[39m,\n",
       "  \u001b[32m\"37-88,36-88\"\u001b[39m,\n",
       "  \u001b[32m\"37-98,37-99\"\u001b[39m,\n",
       "  \u001b[32m\"9-88,87-88\"\u001b[39m,\n",
       "  \u001b[32m\"2-8,2-3\"\u001b[39m,\n",
       "  \u001b[32m\"29-98,29-46\"\u001b[39m,\n",
       "  \u001b[32m\"12-98,12-83\"\u001b[39m,\n",
       "  \u001b[32m\"85-99,19-98\"\u001b[39m,\n",
       "  \u001b[32m\"5-37,37-37\"\u001b[39m,\n",
       "  \u001b[32m\"52-99,52-99\"\u001b[39m,\n",
       "  \u001b[32m\"50-76,27-75\"\u001b[39m,\n",
       "  \u001b[32m\"57-59,29-58\"\u001b[39m,\n",
       "  \u001b[32m\"6-71,71-74\"\u001b[39m,\n",
       "  \u001b[32m\"61-77,62-77\"\u001b[39m,\n",
       "  \u001b[32m\"76-76,16-75\"\u001b[39m,\n",
       "  \u001b[32m\"3-27,4-27\"\u001b[39m,\n",
       "  \u001b[32m\"1-2,1-46\"\u001b[39m,\n",
       "  \u001b[32m\"4-74,4-73\"\u001b[39m,\n",
       "  \u001b[32m\"71-99,13-70\"\u001b[39m,\n",
       "  \u001b[32m\"29-92,30-92\"\u001b[39m,\n",
       "..."
      ]
     },
     "execution_count": 1,
     "metadata": {},
     "output_type": "execute_result"
    }
   ],
   "source": [
    "import scala.io.Source\n",
    "\n",
    "val filename = \"day4input\"\n",
    "\n",
    "val rawData = Source.fromFile(filename).getLines.toList"
   ]
  },
  {
   "cell_type": "code",
   "execution_count": 5,
   "id": "458c2ecc",
   "metadata": {},
   "outputs": [
    {
     "data": {
      "text/plain": [
       "\u001b[36mjobRejex\u001b[39m: \u001b[32mscala\u001b[39m.\u001b[32mutil\u001b[39m.\u001b[32mmatching\u001b[39m.\u001b[32mRegex\u001b[39m = ^(\\d*)-(\\d*),(\\d*)-(\\d*)$\n",
       "defined \u001b[32mclass\u001b[39m \u001b[36mJobPairing\u001b[39m\n",
       "\u001b[36mjobPairings\u001b[39m: \u001b[32mList\u001b[39m[\u001b[32mJobPairing\u001b[39m] = \u001b[33mList\u001b[39m(\n",
       "  \u001b[33mJobPairing\u001b[39m(\n",
       "    elf1 = \u001b[33mRange\u001b[39m(\n",
       "      \u001b[32m14\u001b[39m,\n",
       "      \u001b[32m15\u001b[39m,\n",
       "      \u001b[32m16\u001b[39m,\n",
       "      \u001b[32m17\u001b[39m,\n",
       "      \u001b[32m18\u001b[39m,\n",
       "      \u001b[32m19\u001b[39m,\n",
       "      \u001b[32m20\u001b[39m,\n",
       "      \u001b[32m21\u001b[39m,\n",
       "      \u001b[32m22\u001b[39m,\n",
       "      \u001b[32m23\u001b[39m,\n",
       "      \u001b[32m24\u001b[39m,\n",
       "      \u001b[32m25\u001b[39m,\n",
       "      \u001b[32m26\u001b[39m,\n",
       "      \u001b[32m27\u001b[39m,\n",
       "      \u001b[32m28\u001b[39m,\n",
       "      \u001b[32m29\u001b[39m,\n",
       "      \u001b[32m30\u001b[39m,\n",
       "      \u001b[32m31\u001b[39m,\n",
       "      \u001b[32m32\u001b[39m,\n",
       "      \u001b[32m33\u001b[39m,\n",
       "      \u001b[32m34\u001b[39m,\n",
       "      \u001b[32m35\u001b[39m,\n",
       "      \u001b[32m36\u001b[39m,\n",
       "      \u001b[32m37\u001b[39m,\n",
       "      \u001b[32m38\u001b[39m,\n",
       "      \u001b[32m39\u001b[39m,\n",
       "      \u001b[32m40\u001b[39m,\n",
       "      \u001b[32m41\u001b[39m,\n",
       "      \u001b[32m42\u001b[39m,\n",
       "      \u001b[32m43\u001b[39m,\n",
       "      \u001b[32m44\u001b[39m,\n",
       "      \u001b[32m45\u001b[39m,\n",
       "      \u001b[32m46\u001b[39m,\n",
       "      \u001b[32m47\u001b[39m,\n",
       "      \u001b[32m48\u001b[39m,\n",
       "      \u001b[32m49\u001b[39m,\n",
       "..."
      ]
     },
     "execution_count": 5,
     "metadata": {},
     "output_type": "execute_result"
    }
   ],
   "source": [
    "val jobRejex = \"\"\"^(\\d*)-(\\d*),(\\d*)-(\\d*)$\"\"\".r\n",
    "\n",
    "case class JobPairing (elf1: Range, elf2: Range)\n",
    "\n",
    "val jobPairings = rawData.map(_ match {\n",
    "    case jobRejex(start1, end1, start2, end2) => JobPairing(start1.toInt to end1.toInt, start2.toInt to end2.toInt)\n",
    "})"
   ]
  },
  {
   "cell_type": "code",
   "execution_count": 6,
   "id": "28f86705",
   "metadata": {},
   "outputs": [
    {
     "data": {
      "text/plain": [
       "defined \u001b[32mfunction\u001b[39m \u001b[36mjobContainsJob\u001b[39m"
      ]
     },
     "execution_count": 6,
     "metadata": {},
     "output_type": "execute_result"
    }
   ],
   "source": [
    "def jobContainsJob(jobPairing: JobPairing) = jobPairing.elf1.toSet.subsetOf(jobPairing.elf2.toSet) || jobPairing.elf2.toSet.subsetOf(jobPairing.elf1.toSet)"
   ]
  },
  {
   "cell_type": "code",
   "execution_count": 7,
   "id": "e90ee869",
   "metadata": {},
   "outputs": [
    {
     "data": {
      "text/plain": [
       "\u001b[36mjobsOverlaping\u001b[39m: \u001b[32mList\u001b[39m[\u001b[32mBoolean\u001b[39m] = \u001b[33mList\u001b[39m(\n",
       "  \u001b[32mtrue\u001b[39m,\n",
       "  \u001b[32mtrue\u001b[39m,\n",
       "  \u001b[32mfalse\u001b[39m,\n",
       "  \u001b[32mfalse\u001b[39m,\n",
       "  \u001b[32mfalse\u001b[39m,\n",
       "  \u001b[32mtrue\u001b[39m,\n",
       "  \u001b[32mtrue\u001b[39m,\n",
       "  \u001b[32mtrue\u001b[39m,\n",
       "  \u001b[32mtrue\u001b[39m,\n",
       "  \u001b[32mtrue\u001b[39m,\n",
       "  \u001b[32mtrue\u001b[39m,\n",
       "  \u001b[32mfalse\u001b[39m,\n",
       "  \u001b[32mfalse\u001b[39m,\n",
       "  \u001b[32mtrue\u001b[39m,\n",
       "  \u001b[32mtrue\u001b[39m,\n",
       "  \u001b[32mtrue\u001b[39m,\n",
       "  \u001b[32mfalse\u001b[39m,\n",
       "  \u001b[32mfalse\u001b[39m,\n",
       "  \u001b[32mfalse\u001b[39m,\n",
       "  \u001b[32mtrue\u001b[39m,\n",
       "  \u001b[32mtrue\u001b[39m,\n",
       "  \u001b[32mtrue\u001b[39m,\n",
       "  \u001b[32mtrue\u001b[39m,\n",
       "  \u001b[32mtrue\u001b[39m,\n",
       "  \u001b[32mtrue\u001b[39m,\n",
       "  \u001b[32mfalse\u001b[39m,\n",
       "  \u001b[32mtrue\u001b[39m,\n",
       "  \u001b[32mtrue\u001b[39m,\n",
       "  \u001b[32mfalse\u001b[39m,\n",
       "  \u001b[32mfalse\u001b[39m,\n",
       "  \u001b[32mfalse\u001b[39m,\n",
       "  \u001b[32mtrue\u001b[39m,\n",
       "  \u001b[32mfalse\u001b[39m,\n",
       "  \u001b[32mtrue\u001b[39m,\n",
       "  \u001b[32mtrue\u001b[39m,\n",
       "  \u001b[32mtrue\u001b[39m,\n",
       "  \u001b[32mfalse\u001b[39m,\n",
       "  \u001b[32mtrue\u001b[39m,\n",
       "..."
      ]
     },
     "execution_count": 7,
     "metadata": {},
     "output_type": "execute_result"
    }
   ],
   "source": [
    "val jobsOverlaping = jobPairings.map(jobContainsJob)"
   ]
  },
  {
   "cell_type": "code",
   "execution_count": 11,
   "id": "45e25f8c",
   "metadata": {},
   "outputs": [
    {
     "data": {
      "text/plain": [
       "\u001b[36mcountJobsOverlaping\u001b[39m: \u001b[32mInt\u001b[39m = \u001b[32m540\u001b[39m"
      ]
     },
     "execution_count": 11,
     "metadata": {},
     "output_type": "execute_result"
    }
   ],
   "source": [
    "val countJobsOverlaping = jobsOverlaping.count(_ == true)"
   ]
  },
  {
   "cell_type": "markdown",
   "id": "ea8cc7b2",
   "metadata": {},
   "source": [
    "--- Part Two ---\n",
    "\n",
    "It seems like there is still quite a bit of duplicate work planned. Instead, the Elves would like to know the number of pairs that overlap at all.\n",
    "\n",
    "In the above example, the first two pairs (2-4,6-8 and 2-3,4-5) don't overlap, while the remaining four pairs (5-7,7-9, 2-8,3-7, 6-6,4-6, and 2-6,4-8) do overlap:\n",
    "\n",
    "    5-7,7-9 overlaps in a single section, 7.\n",
    "    2-8,3-7 overlaps all of the sections 3 through 7.\n",
    "    6-6,4-6 overlaps in a single section, 6.\n",
    "    2-6,4-8 overlaps in sections 4, 5, and 6.\n",
    "\n",
    "So, in this example, the number of overlapping assignment pairs is 4.\n",
    "\n",
    "In how many assignment pairs do the ranges overlap?\n"
   ]
  },
  {
   "cell_type": "code",
   "execution_count": 12,
   "id": "583d501c",
   "metadata": {},
   "outputs": [
    {
     "data": {
      "text/plain": [
       "defined \u001b[32mfunction\u001b[39m \u001b[36mjobOverlaps\u001b[39m"
      ]
     },
     "execution_count": 12,
     "metadata": {},
     "output_type": "execute_result"
    }
   ],
   "source": [
    "def jobOverlaps(jobPairing: JobPairing) = jobPairing.elf1 intersect jobPairing.elf2"
   ]
  },
  {
   "cell_type": "code",
   "execution_count": 13,
   "id": "ed799449",
   "metadata": {},
   "outputs": [
    {
     "data": {
      "text/plain": [
       "\u001b[36mjobsOverlapingPartial\u001b[39m: \u001b[32mList\u001b[39m[\u001b[32mIndexedSeq\u001b[39m[\u001b[32mInt\u001b[39m]] = \u001b[33mList\u001b[39m(\n",
       "  \u001b[33mVector\u001b[39m(\n",
       "    \u001b[32m14\u001b[39m,\n",
       "    \u001b[32m15\u001b[39m,\n",
       "    \u001b[32m16\u001b[39m,\n",
       "    \u001b[32m17\u001b[39m,\n",
       "    \u001b[32m18\u001b[39m,\n",
       "    \u001b[32m19\u001b[39m,\n",
       "    \u001b[32m20\u001b[39m,\n",
       "    \u001b[32m21\u001b[39m,\n",
       "    \u001b[32m22\u001b[39m,\n",
       "    \u001b[32m23\u001b[39m,\n",
       "    \u001b[32m24\u001b[39m,\n",
       "    \u001b[32m25\u001b[39m,\n",
       "    \u001b[32m26\u001b[39m,\n",
       "    \u001b[32m27\u001b[39m,\n",
       "    \u001b[32m28\u001b[39m,\n",
       "    \u001b[32m29\u001b[39m,\n",
       "    \u001b[32m30\u001b[39m,\n",
       "    \u001b[32m31\u001b[39m,\n",
       "    \u001b[32m32\u001b[39m,\n",
       "    \u001b[32m33\u001b[39m,\n",
       "    \u001b[32m34\u001b[39m,\n",
       "    \u001b[32m35\u001b[39m,\n",
       "    \u001b[32m36\u001b[39m,\n",
       "    \u001b[32m37\u001b[39m,\n",
       "    \u001b[32m38\u001b[39m,\n",
       "    \u001b[32m39\u001b[39m,\n",
       "    \u001b[32m40\u001b[39m,\n",
       "    \u001b[32m41\u001b[39m,\n",
       "    \u001b[32m42\u001b[39m,\n",
       "    \u001b[32m43\u001b[39m,\n",
       "    \u001b[32m44\u001b[39m,\n",
       "    \u001b[32m45\u001b[39m,\n",
       "    \u001b[32m46\u001b[39m,\n",
       "    \u001b[32m47\u001b[39m,\n",
       "    \u001b[32m48\u001b[39m,\n",
       "    \u001b[32m49\u001b[39m,\n",
       "    \u001b[32m50\u001b[39m\n",
       "..."
      ]
     },
     "execution_count": 13,
     "metadata": {},
     "output_type": "execute_result"
    }
   ],
   "source": [
    "val jobsOverlapingPartial = jobPairings.map(jobOverlaps)"
   ]
  },
  {
   "cell_type": "code",
   "execution_count": 15,
   "id": "ef33bee4",
   "metadata": {},
   "outputs": [
    {
     "data": {
      "text/plain": [
       "\u001b[36mcountJobsOverlapping\u001b[39m: \u001b[32mInt\u001b[39m = \u001b[32m872\u001b[39m"
      ]
     },
     "execution_count": 15,
     "metadata": {},
     "output_type": "execute_result"
    }
   ],
   "source": [
    "val countJobsOverlapping = jobsOverlapingPartial.count(!_.isEmpty)"
   ]
  }
 ],
 "metadata": {
  "kernelspec": {
   "display_name": "Scala",
   "language": "scala",
   "name": "scala"
  },
  "language_info": {
   "codemirror_mode": "text/x-scala",
   "file_extension": ".sc",
   "mimetype": "text/x-scala",
   "name": "scala",
   "nbconvert_exporter": "script",
   "version": "2.13.10"
  }
 },
 "nbformat": 4,
 "nbformat_minor": 5
}
