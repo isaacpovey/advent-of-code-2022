{
 "cells": [
  {
   "cell_type": "markdown",
   "id": "64493a2d",
   "metadata": {},
   "source": [
    "--- Day 8: Treetop Tree House ---\n",
    "\n",
    "The expedition comes across a peculiar patch of tall trees all planted carefully in a grid. The Elves explain that a previous expedition planted these trees as a reforestation effort. Now, they're curious if this would be a good location for a tree house.\n",
    "\n",
    "First, determine whether there is enough tree cover here to keep a tree house hidden. To do this, you need to count the number of trees that are visible from outside the grid when looking directly along a row or column.\n",
    "\n",
    "The Elves have already launched a quadcopter to generate a map with the height of each tree (your puzzle input). For example:\n",
    "\n",
    "30373\n",
    "25512\n",
    "65332\n",
    "33549\n",
    "35390\n",
    "\n",
    "Each tree is represented as a single digit whose value is its height, where 0 is the shortest and 9 is the tallest.\n",
    "\n",
    "A tree is visible if all of the other trees between it and an edge of the grid are shorter than it. Only consider trees in the same row or column; that is, only look up, down, left, or right from any given tree.\n",
    "\n",
    "All of the trees around the edge of the grid are visible - since they are already on the edge, there are no trees to block the view. In this example, that only leaves the interior nine trees to consider:\n",
    "\n",
    "    The top-left 5 is visible from the left and top. (It isn't visible from the right or bottom since other trees of height 5 are in the way.)\n",
    "    The top-middle 5 is visible from the top and right.\n",
    "    The top-right 1 is not visible from any direction; for it to be visible, there would need to only be trees of height 0 between it and an edge.\n",
    "    The left-middle 5 is visible, but only from the right.\n",
    "    The center 3 is not visible from any direction; for it to be visible, there would need to be only trees of at most height 2 between it and an edge.\n",
    "    The right-middle 3 is visible from the right.\n",
    "    In the bottom row, the middle 5 is visible, but the 3 and 4 are not.\n",
    "\n",
    "With 16 trees visible on the edge and another 5 visible in the interior, a total of 21 trees are visible in this arrangement.\n",
    "\n",
    "Consider your map; how many trees are visible from outside the grid?"
   ]
  },
  {
   "cell_type": "code",
   "execution_count": 1,
   "id": "822dab39",
   "metadata": {},
   "outputs": [
    {
     "data": {
      "text/plain": [
       "\u001b[32mimport \u001b[39m\u001b[36mscala.io.Source\n",
       "\n",
       "\u001b[39m\n",
       "\u001b[36mfilename\u001b[39m: \u001b[32mString\u001b[39m = \u001b[32m\"day8input\"\u001b[39m\n",
       "\u001b[36mrawData\u001b[39m: \u001b[32mList\u001b[39m[\u001b[32mString\u001b[39m] = \u001b[33mList\u001b[39m(\n",
       "  \u001b[32m\"002100030222341303232115221524311502200403234452204125251345024423544443305142410110142101223120110\"\u001b[39m,\n",
       "  \u001b[32m\"102030322341143330244233013052025453422005415304655426206452251310214055314024034341233110302320003\"\u001b[39m,\n",
       "  \u001b[32m\"003012203404011430120134554314552441635001641050211406204621114102021543144514102510421243314102033\"\u001b[39m,\n",
       "  \u001b[32m\"330313423002034140035001210441156554545625042262651356556544202500446121455112434243313013430141203\"\u001b[39m,\n",
       "  \u001b[32m\"331203121131230002055113430244610062654034520106363462155201210355601153542301323442223310134324300\"\u001b[39m,\n",
       "  \u001b[32m\"232201231021003254355411402310326206625011564114125202263504451451212600155351424154310240411213431\"\u001b[39m,\n",
       "  \u001b[32m\"033033333301011523544023206136145505304224325606020360006206455564513553512054354124523232201230441\"\u001b[39m,\n",
       "  \u001b[32m\"132201032234334044251334220345360402456541662253556375754662323265201641514121105025300453041111234\"\u001b[39m,\n",
       "  \u001b[32m\"314322341322104402235020206565044225363527617767574524475421763504341061551154250344125514014234344\"\u001b[39m,\n",
       "  \u001b[32m\"101323043023430543342440532324326413655657527215661116623455613664321005134300223542510253102211310\"\u001b[39m,\n",
       "  \u001b[32m\"320404242514122111525043444530625417656773117247512712444315767422412130351505513231104322032421303\"\u001b[39m,\n",
       "  \u001b[32m\"221204123205133142044056245654205231734371546616753217321556472223654044043612554152141554333102034\"\u001b[39m,\n",
       "  \u001b[32m\"340310155225452152216635634352712541366312326272262143522347111166646736001360102010220214000133002\"\u001b[39m,\n",
       "  \u001b[32m\"012404003515002416422500163244271366252711531615333437352461454777311142132000140205630042305222013\"\u001b[39m,\n",
       "  \u001b[32m\"332434552302203445503543424523327464362526657251687634745536521746523154717531643250132300541053000\"\u001b[39m,\n",
       "  \u001b[32m\"020130312425316362611130462217125425435545265467725256332777233137141524314631100051153314314343032\"\u001b[39m,\n",
       "  \u001b[32m\"112115124512002346011342433146124542356845483862756322785545283652723747276776403131622540014001524\"\u001b[39m,\n",
       "  \u001b[32m\"332354013101003031053022245431274627654677343638672643442563448782737464337546541546630431125021330\"\u001b[39m,\n",
       "  \u001b[32m\"220315320142064161406534365262377268373743527784575246325564676238816733767331345114363612344051535\"\u001b[39m,\n",
       "..."
      ]
     },
     "execution_count": 1,
     "metadata": {},
     "output_type": "execute_result"
    }
   ],
   "source": [
    "import scala.io.Source\n",
    "\n",
    "val filename = \"day8input\"\n",
    "\n",
    "val rawData = Source.fromFile(filename).getLines.toList"
   ]
  },
  {
   "cell_type": "code",
   "execution_count": 2,
   "id": "9c822c03",
   "metadata": {},
   "outputs": [
    {
     "data": {
      "text/plain": [
       "\u001b[36mcolumns\u001b[39m: \u001b[32mInt\u001b[39m = \u001b[32m99\u001b[39m\n",
       "\u001b[36mrows\u001b[39m: \u001b[32mInt\u001b[39m = \u001b[32m99\u001b[39m"
      ]
     },
     "execution_count": 2,
     "metadata": {},
     "output_type": "execute_result"
    }
   ],
   "source": [
    "val columns = rawData.head.length\n",
    "val rows = rawData.length"
   ]
  },
  {
   "cell_type": "code",
   "execution_count": 3,
   "id": "00639743",
   "metadata": {},
   "outputs": [
    {
     "data": {
      "text/plain": [
       "\u001b[36mtreeMap\u001b[39m: \u001b[32mArray\u001b[39m[\u001b[32mArray\u001b[39m[\u001b[32mInt\u001b[39m]] = \u001b[33mArray\u001b[39m(\n",
       "  \u001b[33mArray\u001b[39m(\n",
       "    \u001b[32m0\u001b[39m,\n",
       "    \u001b[32m0\u001b[39m,\n",
       "    \u001b[32m2\u001b[39m,\n",
       "    \u001b[32m1\u001b[39m,\n",
       "    \u001b[32m0\u001b[39m,\n",
       "    \u001b[32m0\u001b[39m,\n",
       "    \u001b[32m0\u001b[39m,\n",
       "    \u001b[32m3\u001b[39m,\n",
       "    \u001b[32m0\u001b[39m,\n",
       "    \u001b[32m2\u001b[39m,\n",
       "    \u001b[32m2\u001b[39m,\n",
       "    \u001b[32m2\u001b[39m,\n",
       "    \u001b[32m3\u001b[39m,\n",
       "    \u001b[32m4\u001b[39m,\n",
       "    \u001b[32m1\u001b[39m,\n",
       "    \u001b[32m3\u001b[39m,\n",
       "    \u001b[32m0\u001b[39m,\n",
       "    \u001b[32m3\u001b[39m,\n",
       "    \u001b[32m2\u001b[39m,\n",
       "    \u001b[32m3\u001b[39m,\n",
       "    \u001b[32m2\u001b[39m,\n",
       "    \u001b[32m1\u001b[39m,\n",
       "    \u001b[32m1\u001b[39m,\n",
       "    \u001b[32m5\u001b[39m,\n",
       "    \u001b[32m2\u001b[39m,\n",
       "    \u001b[32m2\u001b[39m,\n",
       "    \u001b[32m1\u001b[39m,\n",
       "    \u001b[32m5\u001b[39m,\n",
       "    \u001b[32m2\u001b[39m,\n",
       "    \u001b[32m4\u001b[39m,\n",
       "    \u001b[32m3\u001b[39m,\n",
       "    \u001b[32m1\u001b[39m,\n",
       "    \u001b[32m1\u001b[39m,\n",
       "    \u001b[32m5\u001b[39m,\n",
       "    \u001b[32m0\u001b[39m,\n",
       "    \u001b[32m2\u001b[39m,\n",
       "    \u001b[32m2\u001b[39m,\n",
       "..."
      ]
     },
     "execution_count": 3,
     "metadata": {},
     "output_type": "execute_result"
    }
   ],
   "source": [
    "val treeMap = Array.ofDim[Int](rows, columns)\n",
    "\n",
    "rawData.zipWithIndex.foreach{\n",
    "    case (rowData, row) => rowData.toList.zipWithIndex.foreach{\n",
    "        case (tree, column) => treeMap(row)(column) = tree.toString.toInt\n",
    "    }\n",
    "}"
   ]
  },
  {
   "cell_type": "code",
   "execution_count": 4,
   "id": "88871e6f",
   "metadata": {},
   "outputs": [
    {
     "data": {
      "text/plain": [
       "defined \u001b[32mfunction\u001b[39m \u001b[36mgetColumn\u001b[39m"
      ]
     },
     "execution_count": 4,
     "metadata": {},
     "output_type": "execute_result"
    }
   ],
   "source": [
    "def getColumn(column: Int, a: Array[Array[Int]]): Array[Int] = a.map(_(column))"
   ]
  },
  {
   "cell_type": "code",
   "execution_count": 5,
   "id": "d531ab82",
   "metadata": {},
   "outputs": [
    {
     "data": {
      "text/plain": [
       "defined \u001b[32mfunction\u001b[39m \u001b[36mgetTreeHeights\u001b[39m\n",
       "defined \u001b[32mfunction\u001b[39m \u001b[36mgetHeightsInDirection\u001b[39m\n",
       "defined \u001b[32mfunction\u001b[39m \u001b[36misTreeVisable\u001b[39m"
      ]
     },
     "execution_count": 5,
     "metadata": {},
     "output_type": "execute_result"
    }
   ],
   "source": [
    "def getTreeHeights(rung: Array[Int], slice: (Int, Int)): List[Int] = {\n",
    "    rung.slice(slice._1, slice._2).toList\n",
    "}\n",
    "\n",
    "def getHeightsInDirection(coords: (Int, Int), map: Array[Array[Int]]) = {\n",
    "    val (row, column) = coords\n",
    "    val rowData = map(row)\n",
    "    val columnData = getColumn(column, map)\n",
    "    List(\n",
    "        getTreeHeights(rowData, (0, column)).reverse,\n",
    "        getTreeHeights(rowData, (column + 1, columns)),\n",
    "        getTreeHeights(columnData, (0, row)).reverse,\n",
    "        getTreeHeights(columnData, (row + 1, rows)),\n",
    "    )\n",
    "}\n",
    "\n",
    "def isTreeVisable(coords: (Int, Int), map: Array[Array[Int]]): Boolean = {\n",
    "    val tree = map(coords._1)(coords._2)\n",
    "    val heights = getHeightsInDirection(coords, map)\n",
    "    heights.map(_.max).map(_ < tree).reduce((left, right) => left || right)\n",
    "}"
   ]
  },
  {
   "cell_type": "code",
   "execution_count": 6,
   "id": "50064eb2",
   "metadata": {},
   "outputs": [
    {
     "data": {
      "text/plain": [
       "\u001b[36mvisableMap\u001b[39m: \u001b[32mArray\u001b[39m[\u001b[32mArray\u001b[39m[\u001b[32mBoolean\u001b[39m]] = \u001b[33mArray\u001b[39m(\n",
       "  \u001b[33mArray\u001b[39m(\n",
       "    \u001b[32mtrue\u001b[39m,\n",
       "    \u001b[32mtrue\u001b[39m,\n",
       "    \u001b[32mtrue\u001b[39m,\n",
       "    \u001b[32mtrue\u001b[39m,\n",
       "    \u001b[32mtrue\u001b[39m,\n",
       "    \u001b[32mtrue\u001b[39m,\n",
       "    \u001b[32mtrue\u001b[39m,\n",
       "    \u001b[32mtrue\u001b[39m,\n",
       "    \u001b[32mtrue\u001b[39m,\n",
       "    \u001b[32mtrue\u001b[39m,\n",
       "    \u001b[32mtrue\u001b[39m,\n",
       "    \u001b[32mtrue\u001b[39m,\n",
       "    \u001b[32mtrue\u001b[39m,\n",
       "    \u001b[32mtrue\u001b[39m,\n",
       "    \u001b[32mtrue\u001b[39m,\n",
       "    \u001b[32mtrue\u001b[39m,\n",
       "    \u001b[32mtrue\u001b[39m,\n",
       "    \u001b[32mtrue\u001b[39m,\n",
       "    \u001b[32mtrue\u001b[39m,\n",
       "    \u001b[32mtrue\u001b[39m,\n",
       "    \u001b[32mtrue\u001b[39m,\n",
       "    \u001b[32mtrue\u001b[39m,\n",
       "    \u001b[32mtrue\u001b[39m,\n",
       "    \u001b[32mtrue\u001b[39m,\n",
       "    \u001b[32mtrue\u001b[39m,\n",
       "    \u001b[32mtrue\u001b[39m,\n",
       "    \u001b[32mtrue\u001b[39m,\n",
       "    \u001b[32mtrue\u001b[39m,\n",
       "    \u001b[32mtrue\u001b[39m,\n",
       "    \u001b[32mtrue\u001b[39m,\n",
       "    \u001b[32mtrue\u001b[39m,\n",
       "    \u001b[32mtrue\u001b[39m,\n",
       "    \u001b[32mtrue\u001b[39m,\n",
       "    \u001b[32mtrue\u001b[39m,\n",
       "    \u001b[32mtrue\u001b[39m,\n",
       "    \u001b[32mtrue\u001b[39m,\n",
       "    \u001b[32mtrue\u001b[39m,\n",
       "...\n",
       "\u001b[36mmaxRowIndex\u001b[39m: \u001b[32mInt\u001b[39m = \u001b[32m98\u001b[39m\n",
       "\u001b[36mmaxColumnIndex\u001b[39m: \u001b[32mInt\u001b[39m = \u001b[32m98\u001b[39m"
      ]
     },
     "execution_count": 6,
     "metadata": {},
     "output_type": "execute_result"
    }
   ],
   "source": [
    "val visableMap = Array.ofDim[Boolean](rows, columns)\n",
    "\n",
    "val maxRowIndex = rows - 1\n",
    "val maxColumnIndex = columns -1\n",
    "\n",
    "for (i<-0 until rows; j<-0 until columns) {\n",
    "    val coords = (i, j)\n",
    "    visableMap(i)(j) = coords match {\n",
    "        case (0, _) | (_, 0) | (98, _) | (_, 98) => true\n",
    "        case _ => isTreeVisable(coords, treeMap)\n",
    "    }\n",
    "}"
   ]
  },
  {
   "cell_type": "code",
   "execution_count": 7,
   "id": "22d6bccf",
   "metadata": {},
   "outputs": [
    {
     "data": {
      "text/plain": [
       "\u001b[36mres6\u001b[39m: \u001b[32mInt\u001b[39m = \u001b[32m1698\u001b[39m"
      ]
     },
     "execution_count": 7,
     "metadata": {},
     "output_type": "execute_result"
    }
   ],
   "source": [
    "visableMap.flatten.toList.count(x => x)"
   ]
  },
  {
   "cell_type": "markdown",
   "id": "19a02b51",
   "metadata": {},
   "source": [
    "--- Part Two ---\n",
    "\n",
    "Content with the amount of tree cover available, the Elves just need to know the best spot to build their tree house: they would like to be able to see a lot of trees.\n",
    "\n",
    "To measure the viewing distance from a given tree, look up, down, left, and right from that tree; stop if you reach an edge or at the first tree that is the same height or taller than the tree under consideration. (If a tree is right on the edge, at least one of its viewing distances will be zero.)\n",
    "\n",
    "The Elves don't care about distant trees taller than those found by the rules above; the proposed tree house has large eaves to keep it dry, so they wouldn't be able to see higher than the tree house anyway.\n",
    "\n",
    "In the example above, consider the middle 5 in the second row:\n",
    "\n",
    "30373\n",
    "25512\n",
    "65332\n",
    "33549\n",
    "35390\n",
    "\n",
    "    Looking up, its view is not blocked; it can see 1 tree (of height 3).\n",
    "    Looking left, its view is blocked immediately; it can see only 1 tree (of height 5, right next to it).\n",
    "    Looking right, its view is not blocked; it can see 2 trees.\n",
    "    Looking down, its view is blocked eventually; it can see 2 trees (one of height 3, then the tree of height 5 that blocks its view).\n",
    "\n",
    "A tree's scenic score is found by multiplying together its viewing distance in each of the four directions. For this tree, this is 4 (found by multiplying 1 * 1 * 2 * 2).\n",
    "\n",
    "However, you can do even better: consider the tree of height 5 in the middle of the fourth row:\n",
    "\n",
    "30373\n",
    "25512\n",
    "65332\n",
    "33549\n",
    "35390\n",
    "\n",
    "    Looking up, its view is blocked at 2 trees (by another tree with a height of 5).\n",
    "    Looking left, its view is not blocked; it can see 2 trees.\n",
    "    Looking down, its view is also not blocked; it can see 1 tree.\n",
    "    Looking right, its view is blocked at 2 trees (by a massive tree of height 9).\n",
    "\n",
    "This tree's scenic score is 8 (2 * 2 * 1 * 2); this is the ideal spot for the tree house.\n",
    "\n",
    "Consider each tree on your map. What is the highest scenic score possible for any tree?\n"
   ]
  },
  {
   "cell_type": "code",
   "execution_count": 8,
   "id": "b461c7c4",
   "metadata": {},
   "outputs": [
    {
     "data": {
      "text/plain": [
       "defined \u001b[32mfunction\u001b[39m \u001b[36mgetScenicScore\u001b[39m"
      ]
     },
     "execution_count": 8,
     "metadata": {},
     "output_type": "execute_result"
    }
   ],
   "source": [
    "def getScenicScore(coords: (Int, Int), map: Array[Array[Int]]): Int = {\n",
    "    val tree = map(coords._1)(coords._2)\n",
    "    val heights = getHeightsInDirection(coords, map)\n",
    "    val treesNotTaller = heights.map(_.span(_ < tree)._1)\n",
    "    val scores = treesNotTaller.zipWithIndex.map{\n",
    "        case (notTaller, index) => if (heights(index).size != 0 && notTaller.isEmpty) {\n",
    "            1\n",
    "        } else if (heights(index).size == 0) {\n",
    "            0\n",
    "        } else if (heights(index).size == notTaller.size) {\n",
    "            notTaller.size\n",
    "        } else {\n",
    "            notTaller.size + 1\n",
    "        }\n",
    "    }\n",
    "    scores.reduce((left, right) => left * right)\n",
    "}"
   ]
  },
  {
   "cell_type": "code",
   "execution_count": 9,
   "id": "caec5243",
   "metadata": {},
   "outputs": [
    {
     "data": {
      "text/plain": [
       "\u001b[36mscenicMap\u001b[39m: \u001b[32mArray\u001b[39m[\u001b[32mArray\u001b[39m[\u001b[32mInt\u001b[39m]] = \u001b[33mArray\u001b[39m(\n",
       "  \u001b[33mArray\u001b[39m(\n",
       "    \u001b[32m0\u001b[39m,\n",
       "    \u001b[32m0\u001b[39m,\n",
       "    \u001b[32m0\u001b[39m,\n",
       "    \u001b[32m0\u001b[39m,\n",
       "    \u001b[32m0\u001b[39m,\n",
       "    \u001b[32m0\u001b[39m,\n",
       "    \u001b[32m0\u001b[39m,\n",
       "    \u001b[32m0\u001b[39m,\n",
       "    \u001b[32m0\u001b[39m,\n",
       "    \u001b[32m0\u001b[39m,\n",
       "    \u001b[32m0\u001b[39m,\n",
       "    \u001b[32m0\u001b[39m,\n",
       "    \u001b[32m0\u001b[39m,\n",
       "    \u001b[32m0\u001b[39m,\n",
       "    \u001b[32m0\u001b[39m,\n",
       "    \u001b[32m0\u001b[39m,\n",
       "    \u001b[32m0\u001b[39m,\n",
       "    \u001b[32m0\u001b[39m,\n",
       "    \u001b[32m0\u001b[39m,\n",
       "    \u001b[32m0\u001b[39m,\n",
       "    \u001b[32m0\u001b[39m,\n",
       "    \u001b[32m0\u001b[39m,\n",
       "    \u001b[32m0\u001b[39m,\n",
       "    \u001b[32m0\u001b[39m,\n",
       "    \u001b[32m0\u001b[39m,\n",
       "    \u001b[32m0\u001b[39m,\n",
       "    \u001b[32m0\u001b[39m,\n",
       "    \u001b[32m0\u001b[39m,\n",
       "    \u001b[32m0\u001b[39m,\n",
       "    \u001b[32m0\u001b[39m,\n",
       "    \u001b[32m0\u001b[39m,\n",
       "    \u001b[32m0\u001b[39m,\n",
       "    \u001b[32m0\u001b[39m,\n",
       "    \u001b[32m0\u001b[39m,\n",
       "    \u001b[32m0\u001b[39m,\n",
       "    \u001b[32m0\u001b[39m,\n",
       "    \u001b[32m0\u001b[39m,\n",
       "...\n",
       "\u001b[36mmaxRowIndex\u001b[39m: \u001b[32mInt\u001b[39m = \u001b[32m98\u001b[39m\n",
       "\u001b[36mmaxColumnIndex\u001b[39m: \u001b[32mInt\u001b[39m = \u001b[32m98\u001b[39m"
      ]
     },
     "execution_count": 9,
     "metadata": {},
     "output_type": "execute_result"
    }
   ],
   "source": [
    "val scenicMap = Array.ofDim[Int](rows, columns)\n",
    "\n",
    "val maxRowIndex = rows - 1\n",
    "val maxColumnIndex = columns -1\n",
    "\n",
    "for (i<-0 until rows; j<-0 until columns) {\n",
    "    val coords = (i, j)\n",
    "    scenicMap(i)(j) = getScenicScore(coords, treeMap)\n",
    "}"
   ]
  },
  {
   "cell_type": "code",
   "execution_count": 11,
   "id": "0d16ef4d",
   "metadata": {},
   "outputs": [
    {
     "data": {
      "text/plain": [
       "\u001b[36mres10\u001b[39m: \u001b[32mInt\u001b[39m = \u001b[32m672280\u001b[39m"
      ]
     },
     "execution_count": 11,
     "metadata": {},
     "output_type": "execute_result"
    }
   ],
   "source": [
    "scenicMap.flatten.toList.max"
   ]
  },
  {
   "cell_type": "code",
   "execution_count": null,
   "id": "4c3ca441",
   "metadata": {},
   "outputs": [],
   "source": []
  }
 ],
 "metadata": {
  "kernelspec": {
   "display_name": "Scala",
   "language": "scala",
   "name": "scala"
  },
  "language_info": {
   "codemirror_mode": "text/x-scala",
   "file_extension": ".sc",
   "mimetype": "text/x-scala",
   "name": "scala",
   "nbconvert_exporter": "script",
   "version": "2.13.10"
  }
 },
 "nbformat": 4,
 "nbformat_minor": 5
}
